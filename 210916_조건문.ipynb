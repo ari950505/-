{
 "cells": [
  {
   "cell_type": "markdown",
   "metadata": {},
   "source": [
    "## 조건문이란?\n",
    "특정 조건에 따라 프로그램을 분기한다."
   ]
  },
  {
   "cell_type": "code",
   "execution_count": 12,
   "metadata": {},
   "outputs": [
    {
     "ename": "KeyboardInterrupt",
     "evalue": "Interrupted by user",
     "output_type": "error",
     "traceback": [
      "\u001b[1;31m---------------------------------------------------------------------------\u001b[0m",
      "\u001b[1;31mKeyboardInterrupt\u001b[0m                         Traceback (most recent call last)",
      "\u001b[1;32m<ipython-input-12-26196dbba52e>\u001b[0m in \u001b[0;36m<module>\u001b[1;34m\u001b[0m\n\u001b[0;32m      1\u001b[0m \u001b[0mpassScore\u001b[0m \u001b[1;33m=\u001b[0m \u001b[1;36m80\u001b[0m\u001b[1;33m\u001b[0m\u001b[1;33m\u001b[0m\u001b[0m\n\u001b[1;32m----> 2\u001b[1;33m \u001b[0mmyScore\u001b[0m \u001b[1;33m=\u001b[0m \u001b[0mint\u001b[0m\u001b[1;33m(\u001b[0m\u001b[0minput\u001b[0m\u001b[1;33m(\u001b[0m\u001b[1;34m'점수를 입력하세요: '\u001b[0m\u001b[1;33m)\u001b[0m\u001b[1;33m)\u001b[0m\u001b[1;33m\u001b[0m\u001b[1;33m\u001b[0m\u001b[0m\n\u001b[0m\u001b[0;32m      3\u001b[0m \u001b[1;32mif\u001b[0m \u001b[0mmyScore\u001b[0m \u001b[1;33m>=\u001b[0m \u001b[0mpassScore\u001b[0m\u001b[1;33m:\u001b[0m\u001b[1;33m\u001b[0m\u001b[1;33m\u001b[0m\u001b[0m\n\u001b[0;32m      4\u001b[0m     \u001b[0mprint\u001b[0m\u001b[1;33m(\u001b[0m\u001b[1;34m'PASS!!!'\u001b[0m\u001b[1;33m)\u001b[0m\u001b[1;33m\u001b[0m\u001b[1;33m\u001b[0m\u001b[0m\n\u001b[0;32m      5\u001b[0m \u001b[1;32melse\u001b[0m\u001b[1;33m:\u001b[0m\u001b[1;33m\u001b[0m\u001b[1;33m\u001b[0m\u001b[0m\n",
      "\u001b[1;32m~\\anaconda3\\lib\\site-packages\\ipykernel\\kernelbase.py\u001b[0m in \u001b[0;36mraw_input\u001b[1;34m(self, prompt)\u001b[0m\n\u001b[0;32m    858\u001b[0m                 \u001b[1;34m\"raw_input was called, but this frontend does not support input requests.\"\u001b[0m\u001b[1;33m\u001b[0m\u001b[1;33m\u001b[0m\u001b[0m\n\u001b[0;32m    859\u001b[0m             )\n\u001b[1;32m--> 860\u001b[1;33m         return self._input_request(str(prompt),\n\u001b[0m\u001b[0;32m    861\u001b[0m             \u001b[0mself\u001b[0m\u001b[1;33m.\u001b[0m\u001b[0m_parent_ident\u001b[0m\u001b[1;33m,\u001b[0m\u001b[1;33m\u001b[0m\u001b[1;33m\u001b[0m\u001b[0m\n\u001b[0;32m    862\u001b[0m             \u001b[0mself\u001b[0m\u001b[1;33m.\u001b[0m\u001b[0m_parent_header\u001b[0m\u001b[1;33m,\u001b[0m\u001b[1;33m\u001b[0m\u001b[1;33m\u001b[0m\u001b[0m\n",
      "\u001b[1;32m~\\anaconda3\\lib\\site-packages\\ipykernel\\kernelbase.py\u001b[0m in \u001b[0;36m_input_request\u001b[1;34m(self, prompt, ident, parent, password)\u001b[0m\n\u001b[0;32m    902\u001b[0m             \u001b[1;32mexcept\u001b[0m \u001b[0mKeyboardInterrupt\u001b[0m\u001b[1;33m:\u001b[0m\u001b[1;33m\u001b[0m\u001b[1;33m\u001b[0m\u001b[0m\n\u001b[0;32m    903\u001b[0m                 \u001b[1;31m# re-raise KeyboardInterrupt, to truncate traceback\u001b[0m\u001b[1;33m\u001b[0m\u001b[1;33m\u001b[0m\u001b[1;33m\u001b[0m\u001b[0m\n\u001b[1;32m--> 904\u001b[1;33m                 \u001b[1;32mraise\u001b[0m \u001b[0mKeyboardInterrupt\u001b[0m\u001b[1;33m(\u001b[0m\u001b[1;34m\"Interrupted by user\"\u001b[0m\u001b[1;33m)\u001b[0m \u001b[1;32mfrom\u001b[0m \u001b[1;32mNone\u001b[0m\u001b[1;33m\u001b[0m\u001b[1;33m\u001b[0m\u001b[0m\n\u001b[0m\u001b[0;32m    905\u001b[0m             \u001b[1;32mexcept\u001b[0m \u001b[0mException\u001b[0m \u001b[1;32mas\u001b[0m \u001b[0me\u001b[0m\u001b[1;33m:\u001b[0m\u001b[1;33m\u001b[0m\u001b[1;33m\u001b[0m\u001b[0m\n\u001b[0;32m    906\u001b[0m                 \u001b[0mself\u001b[0m\u001b[1;33m.\u001b[0m\u001b[0mlog\u001b[0m\u001b[1;33m.\u001b[0m\u001b[0mwarning\u001b[0m\u001b[1;33m(\u001b[0m\u001b[1;34m\"Invalid Message:\"\u001b[0m\u001b[1;33m,\u001b[0m \u001b[0mexc_info\u001b[0m\u001b[1;33m=\u001b[0m\u001b[1;32mTrue\u001b[0m\u001b[1;33m)\u001b[0m\u001b[1;33m\u001b[0m\u001b[1;33m\u001b[0m\u001b[0m\n",
      "\u001b[1;31mKeyboardInterrupt\u001b[0m: Interrupted by user"
     ]
    }
   ],
   "source": [
    "passScore = 80\n",
    "myScore = int(input('점수를 입력하세요: '))\n",
    "if myScore >= passScore:\n",
    "    print('PASS!!!')\n",
    "else:\n",
    "    print('FAIL!!')"
   ]
  },
  {
   "cell_type": "code",
   "execution_count": 8,
   "metadata": {},
   "outputs": [
    {
     "name": "stdout",
     "output_type": "stream",
     "text": [
      "점수를 입력하세요: 90\n"
     ]
    }
   ],
   "source": [
    "passScore = 80\n",
    "myScore = int(input('점수를 입력하세요: '))\n",
    "if myScore >= passScore:\n",
    "    pass\n",
    "else:\n",
    "    print('Fail')"
   ]
  },
  {
   "cell_type": "markdown",
   "metadata": {},
   "source": [
    "## 실습\n",
    "나이가 65세이상이면 교통 요금 무료를 적용하는 프로그램을 만들어 보자."
   ]
  },
  {
   "cell_type": "code",
   "execution_count": 11,
   "metadata": {},
   "outputs": [
    {
     "name": "stdout",
     "output_type": "stream",
     "text": [
      "나이를 입력해주세요: 56\n",
      "유료 대상 승객입니다. \n"
     ]
    }
   ],
   "source": [
    "seniorAge = 65\n",
    "yourAge = int(input('나이를 입력해주세요: '))\n",
    "\n",
    "if yourAge >= seniorAge:\n",
    "    print('교통 요금 무료!')\n",
    "else:\n",
    "    print('유료 대상 승객입니다. ')\n",
    "    "
   ]
  },
  {
   "cell_type": "markdown",
   "metadata": {},
   "source": [
    "## 실습\n",
    "소수점 첫 번째 자리에서 반올림하는 프로그램을 만들어보자."
   ]
  },
  {
   "cell_type": "code",
   "execution_count": 14,
   "metadata": {},
   "outputs": [
    {
     "name": "stdout",
     "output_type": "stream",
     "text": [
      "소수 입력: 6.5\n",
      "올림: 7\n"
     ]
    }
   ],
   "source": [
    "floatNum = float(input('소수 입력: '))\n",
    "\n",
    "if floatNum - int(floatNum) >= 0.5:\n",
    "    print('올림: {}'.format(int(floatNum) + 1))\n",
    "else:\n",
    "    print('버림 : {}'.format(int(floatNum)))"
   ]
  },
  {
   "cell_type": "markdown",
   "metadata": {},
   "source": [
    "## 조건식(삼항연산자)의 두 가지 사용법\n",
    "- 조건식 결과에 따른 실행만 하는 경우\n",
    "print('포인트 사용 가능') if userPoint >= minAblePoint else print('포인트 사용 불가능')\n",
    "\n",
    "- 조건식 결과를 변수에 할당하는 경우\n",
    "result = '가능' if userPoint >= minAblePoint else '불가능'\n",
    "print('포인트 사용 가능 여부 : {}'.format(result))\n",
    "\n",
    "- 모든 조건식은 if~else문으로 변경 가능. 반대로는 불가능.\n",
    "\n",
    "- 조건식은 간단한 조건문 작성 시 사용가능, 복잡한 조건문 작성에는 적합하지 않음. \n"
   ]
  },
  {
   "cell_type": "code",
   "execution_count": 19,
   "metadata": {},
   "outputs": [
    {
     "name": "stdout",
     "output_type": "stream",
     "text": [
      "포인트 입력하슈: 5\n",
      "포인트가 95부족합니다.\n",
      "포인트 사용 가능 여부 : 불가능\n"
     ]
    }
   ],
   "source": [
    "UserPoint =int(input('포인트 입력하슈: '))\n",
    "minAblePoint = 100\n",
    "\n",
    "if UserPoint >= minAblePoint:\n",
    "    result = '가능'\n",
    "else:\n",
    "    result = '불가능'\n",
    "    lackPoint = minAblePoint - UserPoint\n",
    "    print('포인트가 {}부족합니다.'.format(lackPoint))\n",
    "print('포인트 사용 가능 여부 : {}'.format(result))"
   ]
  },
  {
   "cell_type": "markdown",
   "metadata": {},
   "source": [
    "## 실습\n",
    "비율 확률을 입력하고 비올 확률이 55%이상이면 '우산을 챙기세요'를 그렇지 않으면 '양산을 챙기세요' 출력하는 코드를 작성하자. \n",
    " (조건식 & if-else)"
   ]
  },
  {
   "cell_type": "code",
   "execution_count": null,
   "metadata": {},
   "outputs": [],
   "source": [
    "RainPercentage = int(input('비올 확률 입력하시오:  '))\n",
    "minRain = 55\n",
    "\n",
    "# 조건문\n",
    "print('우산을 챙기세요') if RainPercentage >= minRain else print('양산을 챙기세요.')\n",
    "\n",
    "#if-else문\n",
    "\n",
    "if RainPercentage >= minRain:\n",
    "    print('우산을 챙기세요')\n",
    "else: \n",
    "    print('양산 챙기세요')"
   ]
  },
  {
   "cell_type": "markdown",
   "metadata": {},
   "source": [
    "실습\n",
    "다음의 요구 사항을 해결하기 위해서 조건식과 if - else문 중 알맞은 구문을 사용해보자.\n",
    "[요구사항]\n",
    "1. 최저 기온 입력\n",
    "2. 최고 기온 입력\n",
    "3. 일교차가 11도 이상인 경우 출력 내용\n",
    "   일교차: 12도 \n",
    "   '감기 조심하세요'\n",
    " 4. 일교차가 11도 미만인 경우 출력 내용\n",
    "    일교차: 9도\n",
    "    '산책하기 좋은 날씨입니다.'"
   ]
  },
  {
   "cell_type": "markdown",
   "metadata": {},
   "source": [
    "## 다자택일 조건문\n",
    "- if-else문 : 여러 가지 조건식 결과에 따라 실행문이 결정됨. "
   ]
  },
  {
   "cell_type": "code",
   "execution_count": null,
   "metadata": {},
   "outputs": [],
   "source": [
    "#실습\n",
    "키오스크에서 메뉴를 선택하면 영수증이 출력되는 프로그램을 만들어 보자."
   ]
  },
  {
   "cell_type": "code",
   "execution_count": 28,
   "metadata": {},
   "outputs": [
    {
     "name": "stdout",
     "output_type": "stream",
     "text": [
      "1. 카페라떼 (3.5) \t 2.에스프레소(3.0) \t 3.아메리카노(2.0) \t 4.곡물라떼(4.0) \t  5. 밀크티(4.3)\n",
      "메뉴 선택: 66\n",
      "-------------------------\n",
      "메뉴: 밀크티\n",
      "가격: 4,300원\n",
      "-------------------------\n"
     ]
    }
   ],
   "source": [
    "print('1. 카페라떼 (3.5) \\t 2.에스프레소(3.0) \\t 3.아메리카노(2.0) \\t 4.곡물라떼(4.0) \\t  5. 밀크티(4.3)')\n",
    "userSelectNumber = int(input('메뉴 선택: '))\n",
    "print('-'*25)\n",
    "if userSelectNumber == 1:\n",
    "    print('메뉴: 카페라떼')\n",
    "    print('가격: 3,500원')\n",
    "elif userSelectNumber == 2:\n",
    "    print('메뉴: 에스프레소')\n",
    "    print('가격: 3,000원')\n",
    "elif userSelectNumber == 3:\n",
    "    print('메뉴: 아메리카노')\n",
    "    print('가격: 2,000원')\n",
    "elif userSelectNumber == 4:\n",
    "    print('메뉴: 곡물라떼')\n",
    "    print('가격: 4,000원')\n",
    "else:\n",
    "    print('메뉴: 밀크티')\n",
    "    print('가격: 4,300원')\n",
    "print('-'*25)"
   ]
  },
  {
   "cell_type": "markdown",
   "metadata": {},
   "source": [
    "## 다자택일 사용시 주의할 점\n",
    "- 조건식 순서가 중요하다.\n",
    "- 조건 범위를 명시한다."
   ]
  },
  {
   "cell_type": "markdown",
   "metadata": {},
   "source": [
    "## 실습\n",
    "자동차 배기량에 따라 세금을 부과한다고 할 때, 다음 표를 보고 배기량을 입력하면 \n",
    "세금이 출력되는 프로그램을 만들어 보자."
   ]
  },
  {
   "cell_type": "code",
   "execution_count": 32,
   "metadata": {},
   "outputs": [
    {
     "name": "stdout",
     "output_type": "stream",
     "text": [
      "자동차 배기량 입력: 60000\n",
      "세금 : 600,000원\n"
     ]
    }
   ],
   "source": [
    "carDisplacement = int(input('자동차 배기량 입력: '))\n",
    "\n",
    "if carDisplacement < 1000:\n",
    "    print('세금: 100,000원')\n",
    "elif carDisplacement < 2000 and carDisplacement >= 1000:\n",
    "    print('세금 : 200,000원')\n",
    "elif carDisplacement < 3000 and carDisplacement >= 2000:\n",
    "    print('세금 : 300,000원')\n",
    "elif carDisplacement < 4000 and carDisplacement >= 3000:\n",
    "    print('세금 : 400,000원')\n",
    "elif carDisplacement < 5000 and carDisplacement >= 4000:\n",
    "    print('세금 : 500,000원')    \n",
    "else:\n",
    "    print('세금 : 600,000원')"
   ]
  },
  {
   "cell_type": "markdown",
   "metadata": {},
   "source": [
    "## 중첩 조건문\n",
    "- 중첩 조건문: 조건문 안에 또 다른 조건문이 있을 수 있다."
   ]
  },
  {
   "cell_type": "code",
   "execution_count": 35,
   "metadata": {},
   "outputs": [
    {
     "name": "stdout",
     "output_type": "stream",
     "text": [
      "점수 입력: 50\n",
      "재시험 대상이다.\n"
     ]
    }
   ],
   "source": [
    "exampleScore = int(input('점수 입력: '))\n",
    "\n",
    "if exampleScore < 60 :\n",
    "    print('재시험 대상이다.')\n",
    "\n",
    "else:\n",
    "    if exampleScore >= 90:\n",
    "        print('A')\n",
    "    elif exampleScore >= 80:\n",
    "        print('B')\n",
    "    elif exampleScore >= 70:\n",
    "        print('C')\n",
    "    elif exampleScore >= 60:\n",
    "        print('D')"
   ]
  },
  {
   "cell_type": "code",
   "execution_count": 36,
   "metadata": {},
   "outputs": [
    {
     "name": "stdout",
     "output_type": "stream",
     "text": [
      "출퇴근 대상자 인가요? 1. Yes \t 2. No1\n",
      "교통수단을 입력하세요.\n",
      "1.도보, 자전거 2.버스,지하철 3.자가용3\n",
      "추가 세금 : 1%\n"
     ]
    }
   ],
   "source": [
    "selectNum = int(input('출퇴근 대상자 인가요? 1. Yes \\t 2. No'))\n",
    "\n",
    "\n",
    "if selectNum == 1:\n",
    "    print('교통수단을 입력하세요.')\n",
    "    trans = int(input('1.도보, 자전거 2.버스,지하철 3.자가용'))\n",
    "    \n",
    "    if trans == 1:\n",
    "        print('세금 감면 : 55%')\n",
    "    elif trans == 2:\n",
    "        print('세금 감면: 3%')\n",
    "    elif trans == 3:\n",
    "        print('추가 세금 : 1%')\n",
    "    \n",
    "elif selectNum == 2:\n",
    "    print('세금 변동 없습니다.')\n",
    "else:\n",
    "    print('잘못 입력했습니다.')\n",
    "\n",
    "\n",
    "        "
   ]
  }
 ],
 "metadata": {
  "kernelspec": {
   "display_name": "Python 3",
   "language": "python",
   "name": "python3"
  },
  "language_info": {
   "codemirror_mode": {
    "name": "ipython",
    "version": 3
   },
   "file_extension": ".py",
   "mimetype": "text/x-python",
   "name": "python",
   "nbconvert_exporter": "python",
   "pygments_lexer": "ipython3",
   "version": "3.8.5"
  },
  "toc": {
   "base_numbering": 1,
   "nav_menu": {},
   "number_sections": true,
   "sideBar": true,
   "skip_h1_title": false,
   "title_cell": "Table of Contents",
   "title_sidebar": "Contents",
   "toc_cell": false,
   "toc_position": {},
   "toc_section_display": true,
   "toc_window_display": false
  }
 },
 "nbformat": 4,
 "nbformat_minor": 4
}
