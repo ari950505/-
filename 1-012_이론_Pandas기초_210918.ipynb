{
 "cells": [
  {
   "cell_type": "markdown",
   "source": [
    "import pandas as pd\r\n",
    "import numpy as np"
   ],
   "metadata": {}
  },
  {
   "cell_type": "code",
   "execution_count": null,
   "source": [
    "import pandas as pd\r\n",
    "import numpy as np"
   ],
   "outputs": [],
   "metadata": {}
  },
  {
   "cell_type": "markdown",
   "source": [],
   "metadata": {}
  },
  {
   "cell_type": "markdown",
   "source": [
    "t pandas as pd\r\n",
    "import numpy as np"
   ],
   "metadata": {}
  },
  {
   "cell_type": "markdown",
   "source": [
    "\r\n",
    "## Pandas\r\n",
    "- Pandas의 데이터형을 구성하는 기본은 Series.\r\n",
    "- 날짜(시간)를 이용할 수 있다.\r\n",
    "- 가장 많이 사용되는 데이터형은 DataFrame이다.\r\n",
    "- df.index , df.columns : index와 columns를 지정하면 된다.\r\n",
    "- df.values\r\n",
    "- df.info : 기본 정보 확인, 컬럼의 크기와 데이터형태를 확인하는 경우 많음\r\n",
    "- df.describe() : df의 통계적 기본 정보 확인.\r\n",
    "- df.sort_values : 데이터 정렬 \r\n",
    "- df['A'] : 특정 컬럼 읽기\r\n",
    "- df[0:3] : 범위\r\n",
    "- df[1:0] : 인덱스로 지정할 땐, 끝 인덱스까지 포함.\r\n",
    "- df.loc[:,['A','B']] : 이름으로도 사용 가능, slice옵션.\r\n",
    "- df.iloc[3:5,0:2] : [행, 컬럼]번호로 지정.\r\n",
    "- 판다스의 버전에 따라 조금씩 허용되는 문법 다름.\r\n",
    "- 인터넷에서 확보한 소스코드를 돌릴 때 버전확인 필요.\r\n",
    "- del df['A']: 특정 칼럼 삭제\r\n",
    "- df.apply(np.cumsum) : 각 컬럼 누적합\r\n",
    "# Numpy\r\n",
    "- 수치해석적 numpy"
   ],
   "metadata": {}
  },
  {
   "cell_type": "code",
   "execution_count": null,
   "source": [],
   "outputs": [],
   "metadata": {}
  }
 ],
 "metadata": {
  "orig_nbformat": 4,
  "language_info": {
   "name": "python",
   "version": "3.8.8",
   "mimetype": "text/x-python",
   "codemirror_mode": {
    "name": "ipython",
    "version": 3
   },
   "pygments_lexer": "ipython3",
   "nbconvert_exporter": "python",
   "file_extension": ".py"
  },
  "kernelspec": {
   "name": "python3",
   "display_name": "Python 3.8.8 64-bit ('base': conda)"
  },
  "interpreter": {
   "hash": "838183ee7b8555b431a91736167a55b3c95bb59a44782dde488817f7776386cb"
  }
 },
 "nbformat": 4,
 "nbformat_minor": 2
}