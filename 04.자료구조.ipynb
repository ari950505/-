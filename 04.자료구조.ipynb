{
 "cells": [
  {
   "cell_type": "markdown",
   "source": [
    "## 자료구조\r\n",
    "#### 데이터를 묶어서 관리하자!"
   ],
   "metadata": {}
  },
  {
   "cell_type": "markdown",
   "source": [
    "- 여러 개의 데이터가 묶여있는 자료형을 컨테이너 자료형이라고 하고, 이러한 컨테이너 자료형의 데이터 구조를 자료구조라고 한다.\r\n",
    "- 묶어서 관리(컨테이너 자료형)\r\n",
    "- 자료구조는 각각의 컨테이너 자료형에 따라서 차이가 있으며, 파이썬의 대표적인 컨테이너 자료형으로는 리스트, 튜플, 딕션너리, 셋트가 있다.\r\n",
    "    - 리스트가 가장 많이 쓰임.[] -> 데이터 수정 가능. 중복된 데이터 존재가능. \r\n",
    "    - 튜플은 리스트와 유사.() -> 데이터 수정 불가능. 중복된 데이터 존재가능.\r\n",
    "    - 딕셔너리는 key value로 이루어짐. {key:value}\r\n",
    "    - 셋트는 중복된 데이터 허용 불가.{} "
   ],
   "metadata": {}
  },
  {
   "cell_type": "markdown",
   "source": [],
   "metadata": {}
  },
  {
   "cell_type": "code",
   "execution_count": 10,
   "source": [
    "student1 ='홍길동'\r\n",
    "student2 ='박찬호'\r\n",
    "student3 ='이용구'\r\n",
    "student4 ='박승철'\r\n",
    "student5 ='김지은'\r\n",
    "\r\n",
    "students = ['홍길동','박찬호','이용구','박승철','김지은']\r\n",
    "type(students)\r\n"
   ],
   "outputs": [
    {
     "output_type": "execute_result",
     "data": {
      "text/plain": [
       "list"
      ]
     },
     "metadata": {},
     "execution_count": 10
    }
   ],
   "metadata": {}
  },
  {
   "cell_type": "code",
   "execution_count": 11,
   "source": [
    "studentsT = ('홍길동','박찬호','이용구','박승철','김지은')\r\n",
    "type(studentsT)"
   ],
   "outputs": [
    {
     "output_type": "execute_result",
     "data": {
      "text/plain": [
       "tuple"
      ]
     },
     "metadata": {},
     "execution_count": 11
    }
   ],
   "metadata": {}
  },
  {
   "cell_type": "code",
   "execution_count": 12,
   "source": [
    "scores = {'kor':95, 'eng':90, 'mat':90}\r\n",
    "print(scores)\r\n",
    "type(scores)"
   ],
   "outputs": [
    {
     "output_type": "stream",
     "name": "stdout",
     "text": [
      "{'kor': 95, 'eng': 90, 'mat': 90}\n"
     ]
    },
    {
     "output_type": "execute_result",
     "data": {
      "text/plain": [
       "dict"
      ]
     },
     "metadata": {},
     "execution_count": 12
    }
   ],
   "metadata": {}
  },
  {
   "cell_type": "code",
   "execution_count": 13,
   "source": [
    "allSales = {100,200,500}\r\n",
    "print(allSales)\r\n",
    "print(type(allSales))"
   ],
   "outputs": [
    {
     "output_type": "stream",
     "name": "stdout",
     "text": [
      "{200, 100, 500}\n",
      "<class 'set'>\n"
     ]
    }
   ],
   "metadata": {}
  },
  {
   "cell_type": "code",
   "execution_count": 18,
   "source": [
    "for student in scores:\r\n",
    "    print(student)"
   ],
   "outputs": [
    {
     "output_type": "stream",
     "name": "stdout",
     "text": [
      "kor\n",
      "eng\n",
      "mat\n"
     ]
    }
   ],
   "metadata": {}
  },
  {
   "cell_type": "markdown",
   "source": [
    "## 리스트\r\n",
    "- 컨테이너 자료형 중 가장 대표적.\r\n",
    "- 배열과 같이 여러 개의 데이터를 나열한 자료구조. \r\n",
    "- []를 이용해서 선언하고, 데이터 구분은 ',' 를 이용한다.\r\n",
    "- students = ['홍길동','박찬호','이용구','박승철','김지은'] -> 아이템(요소)\r\n",
    "- 숫자, 문자(열), 논리형 등 모든 기본 데이터를 같이 저장할 수 있다.\r\n",
    "- 리스트에 또 다른 컨테이너 자료형 데이터를 저장할 수도 있다."
   ],
   "metadata": {}
  },
  {
   "cell_type": "code",
   "execution_count": 22,
   "source": [
    "student =' 홍기리동'\r\n",
    "student"
   ],
   "outputs": [
    {
     "output_type": "execute_result",
     "data": {
      "text/plain": [
       "' 홍기리동'"
      ]
     },
     "metadata": {},
     "execution_count": 22
    }
   ],
   "metadata": {}
  },
  {
   "cell_type": "code",
   "execution_count": 33,
   "source": [
    "students = ['홍길동','박찬호','이용구','박승철','김지은'] \r\n",
    "print('students:{}'.format(students))\r\n",
    "students\r\n",
    "print(type(students))"
   ],
   "outputs": [
    {
     "output_type": "stream",
     "name": "stdout",
     "text": [
      "students:['홍길동', '박찬호', '이용구', '박승철', '김지은']\n",
      "<class 'list'>\n"
     ]
    }
   ],
   "metadata": {}
  },
  {
   "cell_type": "code",
   "execution_count": 32,
   "source": [
    "mbernus = [10,20,30,40,50,60,70]\r\n",
    "print('numbers:{}'.format(numbers))\r\n",
    "print(type(numbers))"
   ],
   "outputs": [
    {
     "output_type": "stream",
     "name": "stdout",
     "text": [
      "numbers:[10, 20, 30, 40, 50, 60, 70]\n",
      "<class 'list'>\n"
     ]
    }
   ],
   "metadata": {}
  },
  {
   "cell_type": "code",
   "execution_count": 31,
   "source": [
    "str = [ 3.14,'십',20,'one']\r\n",
    "print('str:{}'.format(str))\r\n",
    "print(type(str))"
   ],
   "outputs": [
    {
     "output_type": "stream",
     "name": "stdout",
     "text": [
      "str:[3.14, '십', 20, 'one']\n",
      "<class 'list'>\n"
     ]
    }
   ],
   "metadata": {}
  },
  {
   "cell_type": "code",
   "execution_count": 35,
   "source": [
    "myFamilyNames = ['홍아빠','김엄마','홍딸','홍아들']\r\n",
    "myFamilyNames"
   ],
   "outputs": [
    {
     "output_type": "execute_result",
     "data": {
      "text/plain": [
       "['홍아빠', '김엄마', '홍딸', '홍아들']"
      ]
     },
     "metadata": {},
     "execution_count": 35
    }
   ],
   "metadata": {}
  },
  {
   "cell_type": "code",
   "execution_count": 37,
   "source": [
    "todaySchedule = ['10시-업무회의','12시-친구와점심약속','3시-자료정리','6시-운동','9시-TV시청']\r\n",
    "todaySchedule"
   ],
   "outputs": [
    {
     "output_type": "execute_result",
     "data": {
      "text/plain": [
       "['10시-업무회의', '12시-친구와점심약속', '3시-자료정리', '6시-운동', '9시-TV시청']"
      ]
     },
     "metadata": {},
     "execution_count": 37
    }
   ],
   "metadata": {}
  },
  {
   "cell_type": "code",
   "execution_count": 38,
   "source": [
    "datas=[10,20,[30,89]]\r\n",
    "datas"
   ],
   "outputs": [
    {
     "output_type": "execute_result",
     "data": {
      "text/plain": [
       "[10, 20, [30, 89]]"
      ]
     },
     "metadata": {},
     "execution_count": 38
    }
   ],
   "metadata": {}
  },
  {
   "cell_type": "markdown",
   "source": [
    "### 인덱스\r\n",
    "- 아이템에 자동으로 부여되는 번호표\r\n",
    "- 리스트 아이템은 인덱스를 이용해서 조회 가능하다.\r\n",
    "- 잘못된 인덱스 사용으로 인해 에러 발생한다. ('index out of range!')"
   ],
   "metadata": {}
  },
  {
   "cell_type": "code",
   "execution_count": 41,
   "source": [
    "students = ['홍길동','박찬호','이용구','박승철','김지은'] \r\n",
    "print(students[0])\r\n",
    "print(students[1])\r\n",
    "print(students[2])\r\n",
    "print(students[3])\r\n",
    "print(students[4])\r\n",
    "print(students[5])"
   ],
   "outputs": [
    {
     "output_type": "stream",
     "name": "stdout",
     "text": [
      "홍길동\n",
      "박찬호\n",
      "이용구\n",
      "박승철\n",
      "김지은\n"
     ]
    },
    {
     "output_type": "error",
     "ename": "IndexError",
     "evalue": "list index out of range",
     "traceback": [
      "\u001b[1;31m---------------------------------------------------------------------------\u001b[0m",
      "\u001b[1;31mIndexError\u001b[0m                                Traceback (most recent call last)",
      "\u001b[1;32m<ipython-input-41-963b2eb5b93e>\u001b[0m in \u001b[0;36m<module>\u001b[1;34m\u001b[0m\n\u001b[0;32m      5\u001b[0m \u001b[0mprint\u001b[0m\u001b[1;33m(\u001b[0m\u001b[0mstudents\u001b[0m\u001b[1;33m[\u001b[0m\u001b[1;36m3\u001b[0m\u001b[1;33m]\u001b[0m\u001b[1;33m)\u001b[0m\u001b[1;33m\u001b[0m\u001b[1;33m\u001b[0m\u001b[0m\n\u001b[0;32m      6\u001b[0m \u001b[0mprint\u001b[0m\u001b[1;33m(\u001b[0m\u001b[0mstudents\u001b[0m\u001b[1;33m[\u001b[0m\u001b[1;36m4\u001b[0m\u001b[1;33m]\u001b[0m\u001b[1;33m)\u001b[0m\u001b[1;33m\u001b[0m\u001b[1;33m\u001b[0m\u001b[0m\n\u001b[1;32m----> 7\u001b[1;33m \u001b[0mprint\u001b[0m\u001b[1;33m(\u001b[0m\u001b[0mstudents\u001b[0m\u001b[1;33m[\u001b[0m\u001b[1;36m5\u001b[0m\u001b[1;33m]\u001b[0m\u001b[1;33m)\u001b[0m\u001b[1;33m\u001b[0m\u001b[1;33m\u001b[0m\u001b[0m\n\u001b[0m",
      "\u001b[1;31mIndexError\u001b[0m: list index out of range"
     ]
    }
   ],
   "metadata": {}
  },
  {
   "cell_type": "code",
   "execution_count": 45,
   "source": [
    "numbers= ['10',20.9,30,40,50,60]\r\n",
    "print(type(numbers))\r\n",
    "print(type(numbers[0]))\r\n",
    "print(type(numbers[1]))\r\n",
    "print(numbers[0])\r\n",
    "print(numbers[1])\r\n",
    "print(numbers[2])\r\n",
    "print(numbers[3])\r\n",
    "print(numbers[4])"
   ],
   "outputs": [
    {
     "output_type": "stream",
     "name": "stdout",
     "text": [
      "<class 'list'>\n",
      "<class 'str'>\n",
      "<class 'float'>\n",
      "10\n",
      "20.9\n",
      "30\n",
      "40\n",
      "50\n"
     ]
    }
   ],
   "metadata": {}
  },
  {
   "cell_type": "code",
   "execution_count": 53,
   "source": [
    "# 5명의 학생-> 인덱스가 홀수인 학생, 짝수(0포함)인 학생  구분해서 뽑아내자.\r\n",
    "students = ['홍길동','박찬호','이용구','박승철','김지은'] \r\n",
    "students\r\n",
    "for i in range(len(students)):\r\n",
    "    if i % 2 == 0:\r\n",
    "        print('인덱스 짝수인 학생: students[{}],{}'.format(i,students[i]))\r\n",
    "    else:\r\n",
    "        print('인덱스 홀수인 학생:students[{}],{}'.format(i, students[i]))\r\n"
   ],
   "outputs": [
    {
     "output_type": "stream",
     "name": "stdout",
     "text": [
      "인덱스 짝수인 학생: students[0],홍길동\n",
      "인덱스 홀수인 학생:students[1],박찬호\n",
      "인덱스 짝수인 학생: students[2],이용구\n",
      "인덱스 홀수인 학생:students[3],박승철\n",
      "인덱스 짝수인 학생: students[4],김지은\n"
     ]
    },
    {
     "output_type": "execute_result",
     "data": {
      "text/plain": [
       "5"
      ]
     },
     "metadata": {},
     "execution_count": 53
    }
   ],
   "metadata": {}
  },
  {
   "cell_type": "markdown",
   "source": [
    "## 아이템 개수  len()\r\n",
    "- 리스트 길이란, 리스트에 저장된 아이템 개수를 뜻한다."
   ],
   "metadata": {}
  },
  {
   "cell_type": "code",
   "execution_count": 57,
   "source": [
    "students = ['홍길동','박찬호','이용구','박승철','김지은'] \r\n",
    "print(students)\r\n",
    "print(len(students))"
   ],
   "outputs": [
    {
     "output_type": "stream",
     "name": "stdout",
     "text": [
      "['홍길동', '박찬호', '이용구', '박승철', '김지은']\n",
      "5\n"
     ]
    }
   ],
   "metadata": {}
  },
  {
   "cell_type": "code",
   "execution_count": 62,
   "source": [
    "str = 'Hello Python!!'\r\n",
    "len(str)\r\n",
    "for i in str:\r\n",
    "    print(i)\r\n",
    "str[0:10]"
   ],
   "outputs": [
    {
     "output_type": "stream",
     "name": "stdout",
     "text": [
      "H\n",
      "e\n",
      "l\n",
      "l\n",
      "o\n",
      " \n",
      "P\n",
      "y\n",
      "t\n",
      "h\n",
      "o\n",
      "n\n",
      "!\n",
      "!\n"
     ]
    },
    {
     "output_type": "execute_result",
     "data": {
      "text/plain": [
       "'Hello Pyth'"
      ]
     },
     "metadata": {},
     "execution_count": 62
    }
   ],
   "metadata": {}
  },
  {
   "cell_type": "code",
   "execution_count": 64,
   "source": [
    "# 좋아하는 운동 종목 리스트 저장, 반복문\r\n",
    "myFavSports = ['축구','수영','야구','배구']\r\n",
    "myFavSports\r\n",
    "for i in range(len(myFavSports)):\r\n",
    "    print(myFavSports[i])"
   ],
   "outputs": [
    {
     "output_type": "stream",
     "name": "stdout",
     "text": [
      "축구\n",
      "수영\n",
      "야구\n",
      "배구\n"
     ]
    }
   ],
   "metadata": {}
  },
  {
   "cell_type": "code",
   "execution_count": 69,
   "source": [
    "for i in myFavSports:\r\n",
    "    print(i)"
   ],
   "outputs": [
    {
     "output_type": "stream",
     "name": "stdout",
     "text": [
      "축구\n",
      "수영\n",
      "야구\n",
      "배구\n"
     ]
    }
   ],
   "metadata": {}
  },
  {
   "cell_type": "code",
   "execution_count": 67,
   "source": [
    "n = 0 \r\n",
    "while n < len(myFavSports):\r\n",
    "    print(myFavSports[n])\r\n",
    "    n += 1"
   ],
   "outputs": [
    {
     "output_type": "stream",
     "name": "stdout",
     "text": [
      "축구\n",
      "수영\n",
      "야구\n",
      "배구\n"
     ]
    }
   ],
   "metadata": {}
  },
  {
   "cell_type": "markdown",
   "source": [
    "### 리스트와 for문(1)\r\n",
    "\r\n",
    "#### for문을 이용한 조회\r\n",
    "stus =['항','옹','훟']\r\n",
    "- for문을 이용하면 리스트의 아이템을 자동으로 참조 가능.\r\n",
    "```\r\n",
    "for i in range(len(stus)):\r\n",
    "    print(stu[i])\r\n",
    "\r\n",
    "for i in stus:\r\n",
    "    print(i)\r\n",
    "#반복이 가능한 iterable 객체는 바로 사용 가능(stus->list도 반복가능한 객체임)."
   ],
   "metadata": {}
  },
  {
   "cell_type": "code",
   "execution_count": 71,
   "source": [
    "cars = ['그랜저','쏘나타','말리부','카니발','쏘렌토']\r\n",
    "for i in range(len(cars)):\r\n",
    "    print(cars[i])\r\n",
    "\r\n",
    "for car in cars:\r\n",
    "    print(car)\r\n",
    "\r\n"
   ],
   "outputs": [
    {
     "output_type": "stream",
     "name": "stdout",
     "text": [
      "그랜저\n",
      "쏘나타\n",
      "말리부\n",
      "카니발\n",
      "쏘렌토\n",
      "그랜저\n",
      "쏘나타\n",
      "말리부\n",
      "카니발\n",
      "쏘렌토\n"
     ]
    }
   ],
   "metadata": {}
  },
  {
   "cell_type": "markdown",
   "source": [
    "- for문을 이용하면, 리스트 내부에 또 다른 리스트의 아이템을 조회할 수 있다.\r\n"
   ],
   "metadata": {}
  },
  {
   "cell_type": "code",
   "execution_count": 76,
   "source": [
    "studentCnts = [[1,19],[2,13],[3,20],[4,18],[5,24]]\r\n",
    "for i in range(len(studentCnts)):\r\n",
    "    print('{} 학급 학생 수:{}'.format(studentCnts[i][0],studentCnts[i][1]))"
   ],
   "outputs": [
    {
     "output_type": "stream",
     "name": "stdout",
     "text": [
      "1 학급 학생 수:19\n",
      "2 학급 학생 수:13\n",
      "3 학급 학생 수:20\n",
      "4 학급 학생 수:18\n",
      "5 학급 학생 수:24\n"
     ]
    }
   ],
   "metadata": {}
  },
  {
   "cell_type": "code",
   "execution_count": 77,
   "source": [
    "for classNo, cnt in studentCnts:\r\n",
    "    print('{} 학급 학생 수:{}'.format(classNo,cnt))"
   ],
   "outputs": [
    {
     "output_type": "stream",
     "name": "stdout",
     "text": [
      "1 학급 학생 수:19\n",
      "2 학급 학생 수:13\n",
      "3 학급 학생 수:20\n",
      "4 학급 학생 수:18\n",
      "5 학급 학생 수:24\n"
     ]
    }
   ],
   "metadata": {}
  },
  {
   "cell_type": "code",
   "execution_count": 85,
   "source": [
    "# 학급별 학생수, 전체 학생 수, 평균 학생수\r\n",
    "\r\n",
    "studentCnts = [[1,18], [2,19], [3,23], [4,21], [5,20], [6,22], [7,17]]\r\n",
    "sum = 0\r\n",
    "avg = 0\r\n",
    "for classNo, cnt in studentCnts:\r\n",
    "    print('{} 학급의 학생수:{}명'.format(classNo, cnt))\r\n",
    "    sum += cnt\r\n",
    "    avg =  sum/len(studentCnts)\r\n",
    "\r\n",
    "print('전체 학생 수:{}명'.format(sum))\r\n",
    "print('평균 학생 수 :{}명'.format(avg))"
   ],
   "outputs": [
    {
     "output_type": "stream",
     "name": "stdout",
     "text": [
      "1 학급의 학생수:18명\n",
      "2 학급의 학생수:19명\n",
      "3 학급의 학생수:23명\n",
      "4 학급의 학생수:21명\n",
      "5 학급의 학생수:20명\n",
      "6 학급의 학생수:22명\n",
      "7 학급의 학생수:17명\n",
      "전체 학생 수:140명\n",
      "평균 학생 수 :20.0명\n"
     ]
    }
   ],
   "metadata": {}
  },
  {
   "cell_type": "markdown",
   "source": [
    "### 리스트와 for문(2)\r\n",
    "#### for문을 이용한 조회\r\n"
   ],
   "metadata": {}
  },
  {
   "cell_type": "code",
   "execution_count": 88,
   "source": [
    "#for문과 if문을 이용해서 과락 과목 출력\r\n",
    "minScore = 60\r\n",
    "scores = [['국어',58], ['영어',99], ['수학',90], ['과학',49]]\r\n",
    "\r\n",
    "for subject, score in scores:\r\n",
    "    if score >= minScore:\r\n",
    "        print('{}과목은 {}점으로 Pass'.format(subject,score))\r\n",
    "    else:\r\n",
    "        print('{}과목은 {}점으로 Fail'.format(subject,score)) \r\n"
   ],
   "outputs": [
    {
     "output_type": "stream",
     "name": "stdout",
     "text": [
      "국어과목은 58점으로 Fail\n",
      "영어과목은 99점으로 Pass\n",
      "수학과목은 90점으로 Pass\n",
      "과학과목은 49점으로 Fail\n"
     ]
    }
   ],
   "metadata": {}
  },
  {
   "cell_type": "code",
   "execution_count": 89,
   "source": [
    "minScore = 60\r\n",
    "scores = [['국어',58], ['영어',99], ['수학',90], ['과학',49]]\r\n",
    "\r\n",
    "for subject, score in scores:\r\n",
    "    if score >= minScore: \r\n",
    "        continue\r\n",
    "    else:\r\n",
    "        print('과락과목: {}, {}점'.format(subject,score)) "
   ],
   "outputs": [
    {
     "output_type": "stream",
     "name": "stdout",
     "text": [
      "과락과목: 국어, 58점\n",
      "과락과목: 과학, 49점\n"
     ]
    }
   ],
   "metadata": {}
  },
  {
   "cell_type": "code",
   "execution_count": 90,
   "source": [
    "minScore = 60\r\n",
    "scores = [['국어',58], ['영어',99], ['수학',90], ['과학',49]]\r\n",
    "\r\n",
    "for subject, score in scores:\r\n",
    "    if score <= minScore: \r\n",
    "        print('과락과목: {}, {}점'.format(subject,score)) \r\n",
    "        "
   ],
   "outputs": [
    {
     "output_type": "stream",
     "name": "stdout",
     "text": [
      "과락과목: 국어, 58점\n",
      "과락과목: 과학, 49점\n"
     ]
    }
   ],
   "metadata": {}
  },
  {
   "cell_type": "code",
   "execution_count": 98,
   "source": [
    "minScore = 60\r\n",
    "scores = [['국어',58], ['영어',99], ['수학',90], ['과학',49]]\r\n",
    "for i in scores:\r\n",
    "    if i[1] < minScore:\r\n",
    "        print('과락과목: {}, {}점'.format(i[0],i[1])) "
   ],
   "outputs": [
    {
     "output_type": "stream",
     "name": "stdout",
     "text": [
      "과락과목: 국어, 58점\n",
      "과락과목: 과학, 49점\n"
     ]
    }
   ],
   "metadata": {}
  },
  {
   "cell_type": "code",
   "execution_count": 107,
   "source": [
    "# 사용자가 국어, 영어, 수학, 과학, 국사 점수를 입력하면 과락 과목과 점수를 출력\r\n",
    "korScore = int(input('국어성적:'))\r\n",
    "engScore = int(input('영어성적:'))\r\n",
    "mathScore = int(input('수학성적:'))\r\n",
    "sciScore = int(input('과학성적:'))\r\n",
    "hisScore = int(input('국사성적:'))\r\n",
    "minScore = 60\r\n",
    "scores = [['국어',korScore],\r\n",
    "        ['영어',engScore],\r\n",
    "        ['수학',mathScore],\r\n",
    "        ['과학',sciScore],\r\n",
    "        ['국사',hisScore],]\r\n",
    "print(scores)\r\n",
    "for subject, score in scores: \r\n",
    "    if score < 60:\r\n",
    "        print('과락과목:{}, {}점'.format(subject, score))\r\n"
   ],
   "outputs": [
    {
     "output_type": "stream",
     "name": "stdout",
     "text": [
      "[['국어', 45], ['영어', 67], ['수학', 87], ['과학', 54], ['국사', 98]]\n",
      "과락과목:국어, 45점\n",
      "과락과목:과학, 54점\n"
     ]
    }
   ],
   "metadata": {}
  },
  {
   "cell_type": "code",
   "execution_count": 110,
   "source": [
    "# 학습 학생 수가 가장 작은 학급과 가장 많은 학급 출력.\r\n",
    "students = [[1,18],[2,19],[3,23],[4,21],[5,20],[6,22],[7,17]]\r\n",
    "minScore = 17\r\n",
    "maxScore = 23\r\n",
    "for classNo, stu in students:\r\n",
    "    if stu <= minScore:\r\n",
    "        print('학생 수 가장 적은 학급:{},{}명'.format(classNo,stu))\r\n",
    "    elif stu >= maxScore:    \r\n",
    "        print('학생 수 가장 많은 학급:{},{}명'.format(classNo,stu))"
   ],
   "outputs": [
    {
     "output_type": "stream",
     "name": "stdout",
     "text": [
      "학생 수 가장 많은 학급:3,23명\n",
      "학생 수 가장 적은 학급:7,17명\n"
     ]
    }
   ],
   "metadata": {}
  },
  {
   "cell_type": "markdown",
   "source": [
    "### 리스트와 while문(1)\r\n",
    "- while문을 이용하면 다양한 방법으로 아이템 조회 가능."
   ],
   "metadata": {}
  },
  {
   "cell_type": "code",
   "execution_count": 111,
   "source": [
    "cars = ['그랜저','쏘나타','말리부','카니발','쏘렌토']\r\n",
    "n = 0 \r\n",
    "while True:\r\n",
    "    print(cars[n])\r\n",
    "    n += 1\r\n",
    "\r\n",
    "    if n == len(cars):\r\n",
    "        break"
   ],
   "outputs": [
    {
     "output_type": "stream",
     "name": "stdout",
     "text": [
      "그랜저\n",
      "쏘나타\n",
      "말리부\n",
      "카니발\n",
      "쏘렌토\n"
     ]
    }
   ],
   "metadata": {}
  },
  {
   "cell_type": "code",
   "execution_count": 113,
   "source": [
    "n = 0 \r\n",
    "while n <len(cars):\r\n",
    "    print(cars[n])\r\n",
    "    n += 1"
   ],
   "outputs": [
    {
     "output_type": "stream",
     "name": "stdout",
     "text": [
      "그랜저\n",
      "쏘나타\n",
      "말리부\n",
      "카니발\n",
      "쏘렌토\n"
     ]
    }
   ],
   "metadata": {}
  },
  {
   "cell_type": "code",
   "execution_count": 127,
   "source": [
    "# 학급별 학생 수, 전체 수, 평균 학생 수\r\n",
    "stus = [[1,18],[2,19],[3,23],[4,21],[5,20],[6,22],[7,17]] \r\n",
    "n = 0\r\n",
    "sum = 0\r\n",
    "avg = 0\r\n",
    "while n < len(stus):\r\n",
    "    print(stus[n][0],stus[n][1])\r\n",
    "    sum += stus[n][1]\r\n",
    "    avg = sum/len(stus)\r\n",
    "    n += 1\r\n",
    "print(avg)\r\n",
    "print(sum)\r\n"
   ],
   "outputs": [
    {
     "output_type": "stream",
     "name": "stdout",
     "text": [
      "1 18\n",
      "2 19\n",
      "3 23\n",
      "4 21\n",
      "5 20\n",
      "6 22\n",
      "7 17\n",
      "20.0\n",
      "140\n"
     ]
    }
   ],
   "metadata": {}
  },
  {
   "cell_type": "code",
   "execution_count": 138,
   "source": [
    "### 리스트와 while문(2)\r\n",
    "#while문을 이용한 조회\r\n",
    "#while문과 if문을 이용해서 과락 과목 출력\r\n",
    "\r\n",
    "minScore = 60\r\n",
    "scores = [['국어',58], ['영어',99], ['수학',90], ['과학',49]]\r\n",
    "\r\n",
    "while n < len(scores):\r\n",
    "    if scores[n][1] < minScore:\r\n",
    "        print('과락과목:{}'.format(scores[n][1]))\r\n",
    "    n += 1\r\n",
    "\r\n"
   ],
   "outputs": [],
   "metadata": {}
  },
  {
   "cell_type": "code",
   "execution_count": 140,
   "source": [
    "minScore = 60\r\n",
    "scores = [['국어',58], ['영어',99], ['수학',90], ['과학',49]]\r\n",
    "\r\n",
    "n=0\r\n",
    "while n < len(scores):\r\n",
    "    if scores[n][1] < minScore:\r\n",
    "        print('과락과목:{}'.format(scores[n][1]))\r\n",
    "    n += 1\r\n"
   ],
   "outputs": [
    {
     "output_type": "stream",
     "name": "stdout",
     "text": [
      "과락과목:58\n",
      "과락과목:49\n"
     ]
    }
   ],
   "metadata": {}
  },
  {
   "cell_type": "code",
   "execution_count": 148,
   "source": [
    "#while문을 이용해서 학급 학생 수가 가장 작은 학급, 가장 많은 학급\r\n",
    "n = 0 \r\n",
    "minCnt = 0\r\n",
    "maxCnt = 0\r\n",
    "minclassNo = 0 ; maxclassNo = 0\r\n",
    "studentCnts = [[1,18],[2,19],[3,23],[4,21],[5,20],[6,22],[7,17]] \r\n",
    "\r\n",
    "while n < len(studentCnts):\r\n",
    "    if minCnt == 0 or minCnt > studentCnts[n][1]:\r\n",
    "        minclasssNo = studentCnts[n][0]\r\n",
    "        minCnt = studentCnts[n][1]\r\n",
    "        \r\n",
    "    if maxCnt < studentCnts[n][1]:\r\n",
    "        maxclasssNo = studentCnts[n][0]\r\n",
    "        maxCnt = studentCnts[n][1]\r\n",
    "    n += 1\r\n",
    "\r\n",
    "print('학생 수가 가장 작은 학급(학생수):{}학급{}명)'.format(minclassNo, minCnt))\r\n",
    "print('학생 수가 가장 많은 학급(학생수):{}학급{}명)'.format(maxclassNo, maxCnt))"
   ],
   "outputs": [
    {
     "output_type": "stream",
     "name": "stdout",
     "text": [
      "학생 수가 가장 작은 학급(학생수):0학급17명)\n",
      "학생 수가 가장 많은 학급(학생수):0학급23명)\n"
     ]
    }
   ],
   "metadata": {}
  },
  {
   "cell_type": "code",
   "execution_count": 149,
   "source": [
    "#while문을 이용해서 학급 학생 수가 가장 작은 학급, 가장 많은 학급\r\n",
    "n = 0 \r\n",
    "minCnt = 0\r\n",
    "maxCnt = 0\r\n",
    "minclassNo = 0 ; maxclassNo = 0\r\n",
    "studentCnts = [[1,18],[2,19],[3,23],[4,21],[5,20],[6,22],[7,17]] \r\n",
    "\r\n",
    "while n < len(studentCnts):\r\n",
    "    if minCnt == 0 or minCnt > studentCnts[n][1]:\r\n",
    "        minclasssNo = studentCnts[n][0]\r\n",
    "        minCnt = studentCnts[n][1]\r\n",
    "        \r\n",
    "    if maxCnt < studentCnts[n][1]:\r\n",
    "        maxclasssNo = studentCnts[n][0]\r\n",
    "        maxCnt = studentCnts[n][1]\r\n",
    "    n += 1\r\n",
    "\r\n",
    "print('학생 수가 가장 작은 학급(학생수):{}학급{}명)'.format(minclassNo, minCnt))\r\n",
    "print('학생 수가 가장 많은 학급(학생수):{}학급{}명)'.format(maxclassNo, maxCnt))"
   ],
   "outputs": [
    {
     "output_type": "stream",
     "name": "stdout",
     "text": [
      "학생 수가 가장 작은 학급(학생수):0학급17명)\n",
      "학생 수가 가장 많은 학급(학생수):0학급23명)\n"
     ]
    }
   ],
   "metadata": {}
  },
  {
   "cell_type": "markdown",
   "source": [
    "### enumarate()함수\r\n",
    "- 인덱스와 아이템을 한번에 조회!!"
   ],
   "metadata": {}
  },
  {
   "cell_type": "markdown",
   "source": [
    "- 컨테이너 자료형 리스트와 함께 사용됨.\r\n",
    "- enumerate()함수를 이용하면 아이템을 열거할 수 있다.\r\n",
    "- 문자열에도 적용 가능.\r\n"
   ],
   "metadata": {}
  },
  {
   "cell_type": "code",
   "execution_count": 151,
   "source": [
    "sports = ['농구','수구','축구','마라톤','테니스']\r\n",
    "\r\n",
    "for i in range(len(sports)):\r\n",
    "    print('{}:{} '.format(i,sports[i]))\r\n",
    "\r\n",
    "for idx, value in enumerate(sports):\r\n",
    "    print('{}:{}'.format(idx, value))"
   ],
   "outputs": [
    {
     "output_type": "stream",
     "name": "stdout",
     "text": [
      "0:농구 \n",
      "1:수구 \n",
      "2:축구 \n",
      "3:마라톤 \n",
      "4:테니스 \n",
      "0:농구\n",
      "1:수구\n",
      "2:축구\n",
      "3:마라톤\n",
      "4:테니스\n"
     ]
    }
   ],
   "metadata": {}
  },
  {
   "cell_type": "code",
   "execution_count": 154,
   "source": [
    "str = 'Hello python' \r\n",
    "for idx, value in enumerate(str):\r\n",
    "    print(idx, value)"
   ],
   "outputs": [
    {
     "output_type": "stream",
     "name": "stdout",
     "text": [
      "0 H\n",
      "1 e\n",
      "2 l\n",
      "3 l\n",
      "4 o\n",
      "5  \n",
      "6 p\n",
      "7 y\n",
      "8 t\n",
      "9 h\n",
      "10 o\n",
      "11 n\n"
     ]
    }
   ],
   "metadata": {}
  },
  {
   "cell_type": "code",
   "execution_count": 156,
   "source": [
    "# 가장 좋아하는 스포츠가 몇 번째에 있는지 출력\r\n",
    "sports = ['농구','수구','축구','마라톤','테니스']\r\n",
    "favoriteSport = input('가장 좋아하는 스포츠 입력:')\r\n",
    "bestSportIdx = 0\r\n",
    "\r\n",
    "for idx, value in enumerate(sports):\r\n",
    "    if value == favoriteSport:\r\n",
    "        bestSportIdx = idx + 1\r\n",
    "print('{}(은)는 {}번째에 있습니다.'.format(favoriteSport, bestSportIdx))"
   ],
   "outputs": [
    {
     "output_type": "stream",
     "name": "stdout",
     "text": [
      "마라톤(은)는 4번째에 있습니다.\n"
     ]
    }
   ],
   "metadata": {}
  },
  {
   "cell_type": "code",
   "execution_count": 159,
   "source": [
    "# 사용자가 입력한 문자열에서 공백의 개수 출력.\r\n",
    "message = input('메세지 입력:')\r\n",
    "cnt = 0\r\n",
    "for idx,value in enumerate(message):\r\n",
    "    if value == ' ':\r\n",
    "        cnt += 1\r\n",
    "print(cnt)"
   ],
   "outputs": [
    {
     "output_type": "stream",
     "name": "stdout",
     "text": [
      "3\n"
     ]
    }
   ],
   "metadata": {}
  },
  {
   "cell_type": "markdown",
   "source": [
    "### 리스트에 아이템 추가\r\n",
    "- append()함수를 이용하면 마지막 인덱스에 아이템을 추가할 수 있다."
   ],
   "metadata": {}
  },
  {
   "cell_type": "code",
   "execution_count": 163,
   "source": [
    "students = ['홍길동','박찬호','이용규','박승철','김지은']\r\n",
    "print('students:{}'.format(students))\r\n",
    "print('students:{}'.format(len(students)))\r\n",
    "print('students:{}'.format(len(students)-1))\r\n",
    "\r\n",
    "students.append('강호동')\r\n",
    "print('students:{}'.format(students))\r\n",
    "print('students:{}'.format(len(students)))\r\n",
    "print('students:{}'.format(len(students)-1))"
   ],
   "outputs": [
    {
     "output_type": "stream",
     "name": "stdout",
     "text": [
      "students:['홍길동', '박찬호', '이용규', '박승철', '김지은']\n",
      "students:5\n",
      "students:4\n",
      "students:['홍길동', '박찬호', '이용규', '박승철', '김지은', '강호동']\n",
      "students:6\n",
      "students:5\n"
     ]
    }
   ],
   "metadata": {}
  },
  {
   "cell_type": "code",
   "execution_count": 164,
   "source": [
    "myFamilyAge = [['아빠',40],['엄마',38],['나',9]]\r\n",
    "print(myFamilyAge)\r\n",
    "\r\n",
    "myFamilyAge.append(['동생',8])\r\n",
    "print(myFamilyAge)\r\n",
    "\r\n",
    "for name, age in myFamilyAge:\r\n",
    "    print('{} : {}'.format(name,age))"
   ],
   "outputs": [
    {
     "output_type": "stream",
     "name": "stdout",
     "text": [
      "[['아빠', 40], ['엄마', 38], ['나', 9]]\n",
      "[['아빠', 40], ['엄마', 38], ['나', 9], ['동생', 8]]\n",
      "아빠 : 40\n",
      "엄마 : 38\n",
      "나 : 9\n",
      "동생 : 8\n"
     ]
    }
   ],
   "metadata": {}
  },
  {
   "cell_type": "markdown",
   "source": [
    "### 특정 위치에 아이템 추가\r\n",
    "- insert()함수를 이용하면 특정 위치(인덱스)에 아이템 추가\r\n"
   ],
   "metadata": {}
  },
  {
   "cell_type": "code",
   "execution_count": 166,
   "source": [
    "students = ['홍길동','박찬호','이용규','박승철','김지은']\r\n",
    "print('students:{}'.format(students))\r\n",
    "print('students의 길이:{}'.format(len(students)))\r\n",
    "print('students의 마지막 인덱스:{}'.format(len(students)-1))\r\n",
    "\r\n",
    "students.insert(3,'강호동')\r\n",
    "print('students:{}'.format(students))\r\n",
    "print('students의 길이:{}'.format(len(students)))\r\n",
    "print('students의 마지막 인덱스:{}'.format(len(students)-1))"
   ],
   "outputs": [
    {
     "output_type": "stream",
     "name": "stdout",
     "text": [
      "students:['홍길동', '박찬호', '이용규', '박승철', '김지은']\n",
      "students의 길이:5\n",
      "students의 마지막 인덱스:4\n",
      "students:['홍길동', '박찬호', '이용규', '강호동', '박승철', '김지은']\n",
      "students의 길이:6\n",
      "students의 마지막 인덱스:5\n"
     ]
    }
   ],
   "metadata": {}
  },
  {
   "cell_type": "code",
   "execution_count": 169,
   "source": [
    "words = ['I','a','boy']\r\n",
    "for word in words:\r\n",
    "    print(word,end =' ')\r\n",
    "words.insert(1,'am')\r\n",
    "\r\n",
    "print()\r\n",
    "for word in words:\r\n",
    "    print(word,end=' ')"
   ],
   "outputs": [
    {
     "output_type": "stream",
     "name": "stdout",
     "text": [
      "I a boy \n",
      "I am a boy "
     ]
    }
   ],
   "metadata": {}
  },
  {
   "cell_type": "code",
   "execution_count": 171,
   "source": [
    "# 오름차순으로 정렬되어 있는 숫자들에 사용자가 입력한 정수를 추가하는 프로그램을 만들어보자.(추가 후에도 오름차순 정렬 유지.)\r\n",
    "numbers = [1, 3, 6, 11, 45, 54, 62, 74, 85]\r\n",
    "inputNum = int(input('숫자 입력:'))\r\n",
    "insertIdx = 0\r\n",
    "for idx, number in enumerate(numbers):\r\n",
    "    print(idx, number)\r\n",
    "\r\n",
    "    if insertIdx == 0 and inputNum < number:\r\n",
    "        insertIdx = idx\r\n",
    "numbers.insert(insertIdx,inputNum)\r\n",
    "print(numbers)"
   ],
   "outputs": [
    {
     "output_type": "stream",
     "name": "stdout",
     "text": [
      "0 1\n",
      "1 3\n",
      "2 6\n",
      "3 11\n",
      "4 45\n",
      "5 54\n",
      "6 62\n",
      "7 74\n",
      "8 85\n",
      "[1, 3, 6, 11, 45, 54, 56, 62, 74, 85]\n"
     ]
    }
   ],
   "metadata": {}
  },
  {
   "cell_type": "markdown",
   "source": [
    "### 리스트의 아이템 삭제\r\n",
    "- 마지막 인덱스 아이템 삭제\r\n",
    "- pop() 함수를 이용하면 마지막 인덱스에 해당하는 아이템 삭제.\r\n"
   ],
   "metadata": {}
  },
  {
   "cell_type": "code",
   "execution_count": 262,
   "source": [
    "students = ['홍길동','박찬호','이용규','박승철','김지은']\r\n",
    "print('students:{}'.format(students))\r\n",
    "print('students length:{}'.format(len(students)))\r\n",
    "\r\n",
    "students.pop(2)\r\n",
    "print('students:{}'.format(students))\r\n",
    "print('students length:{}'.format(len(students)))\r\n",
    "\r\n",
    "rValue = students.pop(0)  \r\n",
    "print('students:{}'.format(students))\r\n",
    "print('students length:{}'.format(len(students)))\r\n",
    "print('students:{}'.format(rValue)) #remove 한 아이템\r\n"
   ],
   "outputs": [
    {
     "output_type": "stream",
     "name": "stdout",
     "text": [
      "students:['홍길동', '박찬호', '이용규', '박승철', '김지은']\n",
      "students length:5\n",
      "students:['홍길동', '박찬호', '박승철', '김지은']\n",
      "students length:4\n",
      "students:['박찬호', '박승철', '김지은']\n",
      "students length:3\n",
      "students:홍길동\n"
     ]
    }
   ],
   "metadata": {}
  },
  {
   "cell_type": "code",
   "execution_count": 180,
   "source": [
    "# 어떤 체조 선수의 점수표이다. 점수표에서 최저, 최고 점수 삭제.\r\n",
    "playerScores = [9.5,8.9,9.2,9.8,8.8,9.0]\r\n",
    "print('playerScores:{}'.format(playerScores))\r\n",
    "\r\n",
    "minScore = 0 ; minScoreIdx = 0\r\n",
    "maxScore = 0 ; maxScoreIdx = 0\r\n",
    "\r\n",
    "for idx, value in enumerate(playerScores):\r\n",
    "    if idx == 0 or minScore > score:\r\n",
    "        minScoreIdx = idx \r\n",
    "        minScore = score\r\n",
    "print('minScore:{}, minScoreIdx:{}'.format(minScore, minScoreIdx))\r\n",
    "\r\n",
    "for idx, value in enumerate(playerScores):\r\n",
    "    if maxScore < score:\r\n",
    "        maxScoreIdx = idx\r\n",
    "        maxScore = score\r\n",
    "print('maxScore: {}, maxScoreIdx : {}'.format(maxScore, maxScoreIdx))\r\n",
    "    "
   ],
   "outputs": [
    {
     "output_type": "stream",
     "name": "stdout",
     "text": [
      "playerScores:[9.5, 8.9, 9.2, 9.8, 8.8, 9.0]\n",
      "minScore:98, minScoreIdx:0\n",
      "maxScore: 98, maxScoreIdx : 0\n"
     ]
    }
   ],
   "metadata": {}
  },
  {
   "cell_type": "markdown",
   "source": [
    "### 리스트의 특정 아이템 삭제\r\n",
    "- remove() 함수를 이용하면 특정 아이템 삭제 가능.\r\n",
    "- remove()는 한 개의 아이템만 삭제 가능. \r\n",
    "- 만약 삭제하려는 데이터가 2개 이상이라면 while문 이용."
   ],
   "metadata": {}
  },
  {
   "cell_type": "code",
   "execution_count": 185,
   "source": [
    "students = ['홍길동','박찬호','이용규','강호동','박승철','김지은']\r\n",
    "print(students)\r\n",
    "\r\n",
    "students.remove('박찬호')\r\n",
    "print(students)"
   ],
   "outputs": [
    {
     "output_type": "stream",
     "name": "stdout",
     "text": [
      "['홍길동', '박찬호', '이용규', '강호동', '박승철', '김지은']\n",
      "['홍길동', '이용규', '강호동', '박승철', '김지은']\n"
     ]
    }
   ],
   "metadata": {}
  },
  {
   "cell_type": "code",
   "execution_count": 190,
   "source": [
    "students = ['홍길동','박찬호','이용규','강호동','박승철','김지은']\r\n",
    "print(students)\r\n",
    "\r\n",
    "students.remove('강호동')\r\n",
    "print(students)\r\n",
    "\r\n",
    "print('강호동' in students)\r\n",
    "\r\n",
    "while '강호동' in students:\r\n",
    "    students.remove('강호동')\r\n",
    "print(students)"
   ],
   "outputs": [
    {
     "output_type": "stream",
     "name": "stdout",
     "text": [
      "['홍길동', '박찬호', '이용규', '강호동', '박승철', '김지은']\n",
      "['홍길동', '박찬호', '이용규', '박승철', '김지은']\n",
      "False\n",
      "['홍길동', '박찬호', '이용규', '박승철', '김지은']\n"
     ]
    }
   ],
   "metadata": {}
  },
  {
   "cell_type": "code",
   "execution_count": 192,
   "source": [
    "# 아래의 오늘 일정표에서 사용자가 입력한 일정을 삭제.\r\n",
    "myList = ['마케팅 회의','일간','월간','치과 방문','마트 장보기']\r\n",
    "inputList = input()\r\n",
    "myList.remove(inputList)\r\n",
    "print(myList)"
   ],
   "outputs": [
    {
     "output_type": "stream",
     "name": "stdout",
     "text": [
      "['마케팅 회의', '월간', '치과 방문', '마트 장보기']\n"
     ]
    }
   ],
   "metadata": {}
  },
  {
   "cell_type": "code",
   "execution_count": null,
   "source": [
    "# 과목표에서 사용자가 입력한 과목 삭제 프로그램\r\n",
    "subjects = ['국어','영어','수학','과학','국사']\r\n",
    "print('시험 과목표 : {}'.format(subjects))\r\n",
    "\r\n",
    "removeSubject = input('삭제 과목명 입력:')\r\n",
    "while removeSubject in subjects:\r\n",
    "    subjects.remove(removeSubject)\r\n",
    "print('시험 과목표:{}'.format(subjects))"
   ],
   "outputs": [],
   "metadata": {}
  },
  {
   "cell_type": "markdown",
   "source": [
    "### 리스트 연결\r\n",
    "- extend()함수를 이용하면 리스트에 또 다른 리스트를 연결(확장)할 수 있다.\r\n",
    "- 덧셈 연산자를 이용해서 리스트를 연결할 수도 있다."
   ],
   "metadata": {}
  },
  {
   "cell_type": "code",
   "execution_count": 194,
   "source": [
    "group1 = ['홍길동','박찬호','이용규']\r\n",
    "group2 = ['강호동','박승철','김지은']\r\n",
    "\r\n",
    "print('group1:{}'.format(group1))\r\n",
    "print('group2:{}'.format(group2))\r\n",
    "\r\n",
    "group1.extend(group2)\r\n",
    "print('group1:{}'.format(group1))\r\n",
    "print('group2:{}'.format(group2))\r\n"
   ],
   "outputs": [
    {
     "output_type": "stream",
     "name": "stdout",
     "text": [
      "group1:['홍길동', '박찬호', '이용규']\n",
      "group2:['강호동', '박승철', '김지은']\n",
      "group1:['홍길동', '박찬호', '이용규', '강호동', '박승철', '김지은']\n",
      "group2:['강호동', '박승철', '김지은']\n"
     ]
    }
   ],
   "metadata": {}
  },
  {
   "cell_type": "code",
   "execution_count": 197,
   "source": [
    "# 나와 친구가 좋아하는 번호를 합치되 번호가 중복되지 않는다.\r\n",
    "me = [1,3,5,6,7]\r\n",
    "you = [2,3,5,8,10]\r\n",
    "\r\n",
    "add = me + you \r\n",
    "\r\n",
    "result = []\r\n",
    "for number in add:\r\n",
    "    if number not in result:\r\n",
    "        result.append(number)\r\n",
    "print(result)"
   ],
   "outputs": [
    {
     "output_type": "stream",
     "name": "stdout",
     "text": [
      "[1, 3, 5, 6, 7, 2, 8, 10]\n"
     ]
    }
   ],
   "metadata": {}
  },
  {
   "cell_type": "code",
   "execution_count": 271,
   "source": [
    "DPactors = {'안준':'정해','직책':'군탈','계급':'ㅇ','3':'ㅇ','특기':'권투',}\r\n",
    "print('안준' in DPactors,'정해' in DPactors,'군탈' not in DPactors, '특기' in DPactors)"
   ],
   "outputs": [
    {
     "output_type": "stream",
     "name": "stdout",
     "text": [
      "True False True True\n"
     ]
    }
   ],
   "metadata": {}
  },
  {
   "cell_type": "code",
   "execution_count": null,
   "source": [],
   "outputs": [],
   "metadata": {}
  },
  {
   "cell_type": "markdown",
   "source": [
    "### 리스트 아이템 정렬\r\n",
    "- 오름차순 또는 내림차순으로 정렬\r\n",
    "리스트 연결(확장)\r\n",
    "- sort() 함수를 이용하면 아이템을 정렬 : 오름차순\r\n",
    "- sort(reverse = True) 내림차순\r\n",
    "- 문자, 숫자 모두 정렬 가능."
   ],
   "metadata": {}
  },
  {
   "cell_type": "code",
   "execution_count": 198,
   "source": [
    "students = ['홍길동','박찬호','이용규','강호동','박승철','김지은']\r\n",
    "print('students: {}'.format(students))\r\n",
    "\r\n",
    "students.sort(reverse=False)  #오름차순\r\n",
    "print('students: {}'.format(students))\r\n",
    "\r\n",
    "students.sort(reverse=True)   #내림차순\r\n",
    "print('students: {}'.format(students))\r\n"
   ],
   "outputs": [
    {
     "output_type": "stream",
     "name": "stdout",
     "text": [
      "students: ['홍길동', '박찬호', '이용규', '강호동', '박승철', '김지은']\n",
      "students: ['강호동', '김지은', '박승철', '박찬호', '이용규', '홍길동']\n",
      "students: ['홍길동', '이용규', '박찬호', '박승철', '김지은', '강호동']\n"
     ]
    }
   ],
   "metadata": {}
  },
  {
   "cell_type": "code",
   "execution_count": 202,
   "source": [
    "numbers = [2,50,0.12,1,9,7,17,35,100,3.14]\r\n",
    "print('numbers:{}'.format(numbers))\r\n",
    "\r\n",
    "numbers.sort()\r\n",
    "print('numbers:{}'.format(numbers))\r\n",
    "\r\n",
    "numbers.sort(reverse=True)\r\n",
    "print('numbers:{}'.format(numbers))"
   ],
   "outputs": [
    {
     "output_type": "stream",
     "name": "stdout",
     "text": [
      "numbers:[2, 50, 0.12, 1, 9, 7, 17, 35, 100, 3.14]\n",
      "numbers:[0.12, 1, 2, 3.14, 7, 9, 17, 35, 50, 100]\n",
      "numbers:[100, 50, 35, 17, 9, 7, 3.14, 2, 1, 0.12]\n"
     ]
    }
   ],
   "metadata": {}
  },
  {
   "cell_type": "code",
   "execution_count": 208,
   "source": [
    "# 점수표에서 최저 최고 점수 삭제 후 총점과 평균 출력.\r\n",
    "\r\n",
    "playerScores = [9.5,8.9,9.2,9.8,8.8,9.0]\r\n",
    "print('playerScores:{}'.format(playerScores))\r\n",
    "\r\n",
    "playerScores.sort()\r\n",
    "print('playerScores:{}'.format(playerScores))\r\n",
    "\r\n",
    "playerScores.pop(0)\r\n",
    "playerScores.pop(len(playerScores)-1)\r\n",
    "print('playerScores:{}'.format(playerScores))\r\n",
    "\r\n",
    "\r\n",
    "sum = 0\r\n",
    "avg = 0\r\n",
    "for score in playerScores:\r\n",
    "    sum += score \r\n",
    "avg = sum / len(playerScores)\r\n",
    "print('sum:%.2f'% sum)\r\n",
    "print('sum:%.2f'% avg)"
   ],
   "outputs": [
    {
     "output_type": "stream",
     "name": "stdout",
     "text": [
      "playerScores:[9.5, 8.9, 9.2, 9.8, 8.8, 9.0]\n",
      "playerScores:[8.8, 8.9, 9.0, 9.2, 9.5, 9.8]\n",
      "playerScores:[8.9, 9.0, 9.2, 9.5]\n",
      "sum:36.60\n",
      "sum:9.15\n"
     ]
    }
   ],
   "metadata": {}
  },
  {
   "cell_type": "markdown",
   "source": [
    "### 리스트 아이템 순서 뒤집기\r\n",
    "\r\n",
    "- reverse()함수를 이용하면 아이템 순서를 뒤집을 수 있음.\r\n",
    "- 문자열, 숫자 다 가능. \r\n"
   ],
   "metadata": {}
  },
  {
   "cell_type": "code",
   "execution_count": 209,
   "source": [
    "students = ['홍길동','박찬호','이용규','강호동','박승철','김지은']\r\n",
    "print('students:{}'.format(students))\r\n",
    "\r\n",
    "students.reverse()\r\n",
    "students"
   ],
   "outputs": [
    {
     "output_type": "stream",
     "name": "stdout",
     "text": [
      "students:['홍길동', '박찬호', '이용규', '강호동', '박승철', '김지은']\n"
     ]
    },
    {
     "output_type": "execute_result",
     "data": {
      "text/plain": [
       "['김지은', '박승철', '강호동', '이용규', '박찬호', '홍길동']"
      ]
     },
     "metadata": {},
     "execution_count": 209
    }
   ],
   "metadata": {}
  },
  {
   "cell_type": "code",
   "execution_count": 212,
   "source": [
    "# 전쟁에서 사용되는 암호, 암호 해독 프로그램.\r\n",
    "\r\n",
    "secret = '27156231'\r\n",
    "secretList = []\r\n",
    "solvedList = '' \r\n",
    "for cha in secret:\r\n",
    "    secretList.append(int(cha))\r\n",
    "print('secretList: {}'.format(secretList))\r\n",
    "\r\n",
    "secretList.reverse()\r\n",
    "print('secretList: {}'.format(secretList))\r\n",
    "\r\n",
    "val = secretList[0] * secretList[1]\r\n",
    "secretList.insert(2,val)\r\n",
    "\r\n",
    "val = secretList[3] * secretList[4]\r\n",
    "secretList.insert(5,val)\r\n",
    "\r\n",
    "val = secretList[6] * secretList[7]\r\n",
    "secretList.insert(8,val)\r\n",
    "\r\n",
    "print('secretList: {}'.format(secretList))\r\n",
    "\r\n"
   ],
   "outputs": [
    {
     "output_type": "stream",
     "name": "stdout",
     "text": [
      "secretList: [2, 7, 1, 5, 6, 2, 3, 1]\n",
      "secretList: [1, 3, 2, 6, 5, 1, 7, 2]\n",
      "secretList: [1, 3, 3, 2, 6, 12, 5, 1, 5, 7, 2]\n"
     ]
    }
   ],
   "metadata": {}
  },
  {
   "cell_type": "markdown",
   "source": [
    "### 리스트 슬라이싱\r\n",
    "- 원하는 아이템만 뽑아내자!\r\n",
    "- [n:m]을 이용하면 리스트에서 원하는 아이템만 뽑아낼 수 있다.\r\n",
    "n <= number < m\r\n",
    "- 문자열 슬라이싱 가능\r\n",
    "- 슬라이싱할 때 단계 설정 가능\r\n",
    "- 슬라이싱을 이용해서 아이템 변경 가능.\r\n",
    "- slice()함수를 이용해서 아이템 슬라이싱 가능.\r\n"
   ],
   "metadata": {}
  },
  {
   "cell_type": "code",
   "execution_count": 220,
   "source": [
    "students = ['홍길동','박찬호','이용규','강호동','박승철','김지은']\r\n",
    "print('students:{}'.format(students[1:4]))\r\n",
    "print('students:{}'.format(students[:4]))\r\n",
    "print('students:{}'.format(students[3:]))\r\n",
    "print('students:{}'.format(students[3::2]))\r\n",
    "print('students:{}'.format(students[2:-1]))\r\n",
    "print('students:{}'.format(students[-4:-1]))"
   ],
   "outputs": [
    {
     "output_type": "stream",
     "name": "stdout",
     "text": [
      "students:['박찬호', '이용규', '강호동']\n",
      "students:['홍길동', '박찬호', '이용규', '강호동']\n",
      "students:['강호동', '박승철', '김지은']\n",
      "students:['강호동', '김지은']\n",
      "students:['이용규', '강호동', '박승철']\n",
      "students:['이용규', '강호동', '박승철']\n"
     ]
    }
   ],
   "metadata": {}
  },
  {
   "cell_type": "code",
   "execution_count": 222,
   "source": [
    "students = ['홍길동','박찬호','이용규','강호동','박승철','김지은']\r\n",
    "students[1:3] =['park','lee']\r\n",
    "students "
   ],
   "outputs": [
    {
     "output_type": "execute_result",
     "data": {
      "text/plain": [
       "['홍길동', 'park', 'lee', '강호동', '박승철', '김지은']"
      ]
     },
     "metadata": {},
     "execution_count": 222
    }
   ],
   "metadata": {}
  },
  {
   "cell_type": "code",
   "execution_count": 223,
   "source": [
    "students = ['홍길동','박찬호','이용규','강호동','박승철','김지은']\r\n",
    "students[1:4] =['park','lee']\r\n",
    "students   # 아이템 할당 안해주면 날라감."
   ],
   "outputs": [
    {
     "output_type": "execute_result",
     "data": {
      "text/plain": [
       "['홍길동', 'park', 'lee', '박승철', '김지은']"
      ]
     },
     "metadata": {},
     "execution_count": 223
    }
   ],
   "metadata": {}
  },
  {
   "cell_type": "code",
   "execution_count": 228,
   "source": [
    "students = ['홍길동','박찬호','이용규','강호동','박승철','김지은']\r\n",
    "print(len(students))\r\n",
    "print('students:{}'.format(students[slice(2,4)]))\r\n",
    "\r\n",
    "print('students:{}'.format(students[slice(4)]))\r\n",
    "print('students:{}'.format(students[slice(1)]))\r\n",
    "\r\n",
    "print('students:{}'.format(students[slice(2,len(students)-2)]))\r\n",
    "print('students:{}'.format(students[slice(len(students)-5, len(students)-2)]))"
   ],
   "outputs": [
    {
     "output_type": "stream",
     "name": "stdout",
     "text": [
      "6\n",
      "students:['이용규', '강호동']\n",
      "students:['홍길동', '박찬호', '이용규', '강호동']\n",
      "students:['홍길동']\n",
      "students:['이용규', '강호동']\n",
      "students:['박찬호', '이용규', '강호동']\n"
     ]
    }
   ],
   "metadata": {}
  },
  {
   "cell_type": "markdown",
   "source": [
    "### 리스트 나머지 기능들\r\n",
    "\r\n",
    "- 리스트 곱셈 연산\r\n",
    "    - 리스트를 곱셈 연산하면 아이템이 반복된다.\r\n",
    "    - 문자열, 숫자 다 가능.\r\n",
    "\r\n",
    "- 아이템 위치 찾기\r\n",
    "    - index(item) 함수를 item의 인덱스 찾기 가능.\r\n"
   ],
   "metadata": {}
  },
  {
   "cell_type": "code",
   "execution_count": 230,
   "source": [
    "students =['홍길동','박찬호','이용규']\r\n",
    "print('students:{}'.format(students))\r\n",
    "\r\n",
    "studentsMul = students*2\r\n",
    "studentsMul"
   ],
   "outputs": [
    {
     "output_type": "stream",
     "name": "stdout",
     "text": [
      "students:['홍길동', '박찬호', '이용규']\n"
     ]
    },
    {
     "output_type": "execute_result",
     "data": {
      "text/plain": [
       "['홍길동', '박찬호', '이용규', '홍길동', '박찬호', '이용규']"
      ]
     },
     "metadata": {},
     "execution_count": 230
    }
   ],
   "metadata": {}
  },
  {
   "cell_type": "code",
   "execution_count": 231,
   "source": [
    "num = [1,2,3,4]\r\n",
    "num*2"
   ],
   "outputs": [
    {
     "output_type": "execute_result",
     "data": {
      "text/plain": [
       "[1, 2, 3, 4, 1, 2, 3, 4]"
      ]
     },
     "metadata": {},
     "execution_count": 231
    }
   ],
   "metadata": {}
  },
  {
   "cell_type": "code",
   "execution_count": 239,
   "source": [
    "# 아이템 위치 찾기\r\n",
    "\r\n",
    "students =['홍길동','강호동','박찬호','이용규','박승철','김지은','강호동']\r\n",
    "searchIdx = students.index('강호동') \r\n",
    "print(searchIdx)\r\n",
    "students =['홍길동','강호동','박찬호','이용규','박승철','김지은','강호동']\r\n",
    "searchIdx = students.index('강호동',2,7) #2,7은 범위\r\n",
    "print(searchIdx)\r\n"
   ],
   "outputs": [
    {
     "output_type": "stream",
     "name": "stdout",
     "text": [
      "1\n",
      "6\n"
     ]
    }
   ],
   "metadata": {}
  },
  {
   "cell_type": "code",
   "execution_count": 244,
   "source": [
    "#1부터10까지의 정수가 중복되지 않고 섞여 있을 때 행운의 숫자 7의 위치 찾자\r\n",
    "import random\r\n",
    "\r\n",
    "sampleNum= random.sample(range(1,11),10) # 정수 10개\r\n",
    "selectIdx = int(input('숫자 7의 위치 입력:'))\r\n",
    "searchIdx = sampleNum.index(7)\r\n",
    "\r\n",
    "if searchIdx == selectIdx:\r\n",
    "    print('빙고!')\r\n",
    "else:\r\n",
    "    print('ㅠㅠ')\r\n",
    "print('sampleNum:{}'.format(sampleNum))\r\n",
    "print('searchIdx:{}'.format(searchIdx))"
   ],
   "outputs": [
    {
     "output_type": "stream",
     "name": "stdout",
     "text": [
      "ㅠㅠ\n",
      "sampleNum:[6, 1, 4, 8, 10, 3, 9, 5, 7, 2]\n",
      "searchIdx:8\n"
     ]
    }
   ],
   "metadata": {}
  },
  {
   "cell_type": "markdown",
   "source": [
    "### 리스트 나머지 기능들(2)\r\n",
    "- 특정 아이템 개수 파악\r\n",
    "    - count()함수를 이용하면 특정 아이템의 개수 알수있음.\r\n",
    "- 특정 아이템 삭제\r\n",
    "    - del 키워드를 이용하면 특정 아이템 삭제 가능."
   ],
   "metadata": {}
  },
  {
   "cell_type": "code",
   "execution_count": 245,
   "source": [
    "# count()\r\n",
    "\r\n",
    "students =['홍길동','강호동','박찬호','이용규','박승철','김지은','강호동']\r\n",
    "students.count('강호동')"
   ],
   "outputs": [
    {
     "output_type": "execute_result",
     "data": {
      "text/plain": [
       "2"
      ]
     },
     "metadata": {},
     "execution_count": 245
    }
   ],
   "metadata": {}
  },
  {
   "cell_type": "code",
   "execution_count": 252,
   "source": [
    "\r\n",
    "students =['홍길동','강호동','박찬호','이용규','박승철','김지은','강호동']\r\n",
    "del students[0:5]\r\n",
    "students"
   ],
   "outputs": [
    {
     "output_type": "execute_result",
     "data": {
      "text/plain": [
       "['김지은', '강호동']"
      ]
     },
     "metadata": {},
     "execution_count": 252
    }
   ],
   "metadata": {}
  },
  {
   "cell_type": "code",
   "execution_count": 254,
   "source": [
    "#하루동안 헌혈을 진행한 수 혈액형 별 개수 파악 프로그램.\r\n",
    "import random\r\n",
    "types =['A','B','AB','O']\r\n",
    "todayData = []\r\n",
    "typeCnt = []\r\n",
    "\r\n",
    "for i in range(100):\r\n",
    "    type = types[random.randrange(len(types))]\r\n",
    "    todayData.append(type)\r\n",
    "print('todayData:{}'.format(todayData))\r\n",
    "print('todayData length:{}'.format(len(todayData)))\r\n",
    "\r\n",
    "for type in types:\r\n",
    "    print('{}형 \\t : {}개'.format(type, todayData.count(type)))"
   ],
   "outputs": [
    {
     "output_type": "stream",
     "name": "stdout",
     "text": [
      "todayData:['O', 'B', 'B', 'AB', 'AB', 'O', 'A', 'AB', 'B', 'A', 'O', 'O', 'AB', 'A', 'A', 'B', 'AB', 'B', 'A', 'B', 'B', 'O', 'AB', 'B', 'AB', 'AB', 'AB', 'AB', 'B', 'AB', 'AB', 'O', 'B', 'AB', 'A', 'AB', 'AB', 'O', 'A', 'O', 'AB', 'O', 'A', 'B', 'B', 'B', 'A', 'O', 'O', 'A', 'B', 'O', 'O', 'AB', 'A', 'AB', 'O', 'O', 'O', 'B', 'AB', 'B', 'O', 'O', 'B', 'A', 'O', 'A', 'O', 'A', 'O', 'O', 'A', 'O', 'B', 'B', 'A', 'B', 'AB', 'AB', 'A', 'AB', 'A', 'O', 'O', 'A', 'O', 'A', 'A', 'AB', 'B', 'AB', 'B', 'B', 'B', 'B', 'O', 'AB', 'A', 'O']\n",
      "todayData length:100\n",
      "A형 \t : 22개\n",
      "B형 \t : 25개\n",
      "AB형 \t : 25개\n",
      "O형 \t : 28개\n"
     ]
    }
   ],
   "metadata": {}
  },
  {
   "cell_type": "markdown",
   "source": [
    "## 튜플 \r\n",
    "- 리스트와 비슷하지만 아이템 변경 불가!\r\n",
    "    - 리스트는 아이템 변경(수정,삭제 등) 가능\r\n",
    "    - 튜플은 아이템 변경(수정,삭제 등) 불가능\r\n",
    "- 튜플 선언\r\n",
    "    - '()'를 이용해서 선언하고, 데이터 구분은 ',' 이용\r\n",
    "    - 숫자, 문자(열),논리형 등 모든 기본 데이터를 같이 저장\r\n",
    "    - 튜플에 또 다른 컨테이너 자료형 데이터 저장.\r\n",
    "    "
   ],
   "metadata": {}
  },
  {
   "cell_type": "code",
   "execution_count": 255,
   "source": [
    "students =('홍길동','강호동','박찬호')\r\n",
    "students[1] = '길동'\r\n"
   ],
   "outputs": [
    {
     "output_type": "error",
     "ename": "TypeError",
     "evalue": "'tuple' object does not support item assignment",
     "traceback": [
      "\u001b[1;31m---------------------------------------------------------------------------\u001b[0m",
      "\u001b[1;31mTypeError\u001b[0m                                 Traceback (most recent call last)",
      "\u001b[1;32m<ipython-input-255-68fb3ba483d0>\u001b[0m in \u001b[0;36m<module>\u001b[1;34m\u001b[0m\n\u001b[0;32m      1\u001b[0m \u001b[0mstudents\u001b[0m \u001b[1;33m=\u001b[0m\u001b[1;33m(\u001b[0m\u001b[1;34m'홍길동'\u001b[0m\u001b[1;33m,\u001b[0m\u001b[1;34m'강호동'\u001b[0m\u001b[1;33m,\u001b[0m\u001b[1;34m'박찬호'\u001b[0m\u001b[1;33m)\u001b[0m\u001b[1;33m\u001b[0m\u001b[1;33m\u001b[0m\u001b[0m\n\u001b[1;32m----> 2\u001b[1;33m \u001b[0mstudents\u001b[0m\u001b[1;33m[\u001b[0m\u001b[1;36m1\u001b[0m\u001b[1;33m]\u001b[0m \u001b[1;33m=\u001b[0m \u001b[1;34m'길동'\u001b[0m\u001b[1;33m\u001b[0m\u001b[1;33m\u001b[0m\u001b[0m\n\u001b[0m",
      "\u001b[1;31mTypeError\u001b[0m: 'tuple' object does not support item assignment"
     ]
    }
   ],
   "metadata": {}
  },
  {
   "cell_type": "markdown",
   "source": [
    "### 튜플 아이템 조회\r\n",
    "- 인덱스 \r\n",
    "    - 튜플도 리스트와 마찬가지로 아이템에 자동으로 부여되는 번호표 있음.\r\n",
    "- 아이템 조회\r\n",
    "    - 튜플 아이템은 인덱스를 이용해서 조회 가능\r\n",
    "    - 잘못된 인덱스 사용으로 인한 에러 발생!\r\n",
    "\r\n"
   ],
   "metadata": {}
  },
  {
   "cell_type": "code",
   "execution_count": 256,
   "source": [
    "students =('홍길동','강호동','박찬호')\r\n",
    "students[1]\r\n"
   ],
   "outputs": [
    {
     "output_type": "execute_result",
     "data": {
      "text/plain": [
       "'강호동'"
      ]
     },
     "metadata": {},
     "execution_count": 256
    }
   ],
   "metadata": {}
  },
  {
   "cell_type": "code",
   "execution_count": null,
   "source": [
    "# 5명의 학생 이름을 튜플에 저장하고 인덱스가 홀수인 학생과 짝수(0포함)인 학생을 구분해서 인덱스와 학생 이름 출력."
   ],
   "outputs": [],
   "metadata": {}
  },
  {
   "cell_type": "markdown",
   "source": [
    "## in과 not in 키워드\r\n",
    "- 아이템 존재 유/무 판단하기\r\n",
    "- in , not in 키워드를 이용하면 아이템의 존재 유/무를 알 수 있음.\r\n",
    "- 아이템 조회\r\n",
    "    - in, not in 키워드는 문자열에서도 사용 가능"
   ],
   "metadata": {}
  },
  {
   "cell_type": "code",
   "execution_count": 258,
   "source": [
    "students =('홍길동','강호동','박찬호')\r\n",
    "stu = input()\r\n",
    "if stu in students:\r\n",
    "    print('기')\r\n",
    "else:\r\n",
    "    print('노우')"
   ],
   "outputs": [
    {
     "output_type": "stream",
     "name": "stdout",
     "text": [
      "노우\n"
     ]
    }
   ],
   "metadata": {}
  },
  {
   "cell_type": "markdown",
   "source": [
    "### 아이템 개수\r\n",
    "- 리스트와 마찬가지로, 튜플에 저장된 아이템 개수를 튜플 길이라고 함.\r\n"
   ],
   "metadata": {}
  },
  {
   "cell_type": "code",
   "execution_count": 259,
   "source": [
    "students = ('홍길동','박찬호','이용규','박승철','김지은')\r\n",
    "slength = len(students)\r\n",
    "print(slength)"
   ],
   "outputs": [
    {
     "output_type": "stream",
     "name": "stdout",
     "text": [
      "5\n"
     ]
    }
   ],
   "metadata": {}
  },
  {
   "cell_type": "code",
   "execution_count": null,
   "source": [
    "n = 0 \r\n",
    "while n < len(students):\r\n",
    "    b"
   ],
   "outputs": [],
   "metadata": {}
  },
  {
   "cell_type": "markdown",
   "source": [
    "### 튜플 결합\r\n",
    "- 두 개의 튜플을 합쳐서 새로운 튜플 만들기\r\n"
   ],
   "metadata": {}
  },
  {
   "cell_type": "code",
   "execution_count": 260,
   "source": [
    "students1 = ('홍길동','박찬호')\r\n",
    "students2 =  ('이용규','박승철','김지은')\r\n",
    "students1 + students2"
   ],
   "outputs": [
    {
     "output_type": "execute_result",
     "data": {
      "text/plain": [
       "('홍길동', '박찬호', '이용규', '박승철', '김지은')"
      ]
     },
     "metadata": {},
     "execution_count": 260
    }
   ],
   "metadata": {}
  },
  {
   "cell_type": "markdown",
   "source": [
    "### 리스트 vs 튜플\r\n",
    "- 리스트에서 사용할 수 있는 extend() 함수를 튜플에서는 사용 불가"
   ],
   "metadata": {}
  },
  {
   "cell_type": "markdown",
   "source": [
    "### 튜플 슬라이싱\r\n",
    "- 리스트와 마찬가지로 [n:m]을 이용하면 리스트에서 원하는 아이템만 뽑기\r\n",
    "- 슬라이싱할 때 단계 설정 가능\r\n",
    "- 튜플은 슬라이싱을 이용해서 아이템 변경 불가능\r\n",
    "- slice()함수를 이용해서 아이템을 슬라이싱 가능"
   ],
   "metadata": {}
  },
  {
   "cell_type": "code",
   "execution_count": 261,
   "source": [
    "students = ('홍길동', '박찬호', '이용규', '박승철', '김지은')\r\n",
    "students[2:4]"
   ],
   "outputs": [
    {
     "output_type": "execute_result",
     "data": {
      "text/plain": [
       "('이용규', '박승철')"
      ]
     },
     "metadata": {},
     "execution_count": 261
    }
   ],
   "metadata": {}
  },
  {
   "cell_type": "markdown",
   "source": [
    "### 리스트와 튜플의 차이\r\n",
    "- 튜플은 리스트와 달리 아이템 추가, 변경, 삭제 불가.\r\n",
    "- 튜플은 선언 시 괄호 생략 가능, 리스트는 불가.\r\n",
    "- 리스트와 튜플은 자료형 변환 가능."
   ],
   "metadata": {}
  },
  {
   "cell_type": "code",
   "execution_count": 3,
   "source": [
    "#튜플은 선언 시 괄호 생략 가능, 구분자->','\r\n",
    "\r\n",
    "students = '홍길동', '박찬호', '이용규', '박승철', '김지은'\r\n",
    "type(students)"
   ],
   "outputs": [
    {
     "output_type": "execute_result",
     "data": {
      "text/plain": [
       "tuple"
      ]
     },
     "metadata": {},
     "execution_count": 3
    }
   ],
   "metadata": {}
  },
  {
   "cell_type": "code",
   "execution_count": 5,
   "source": [
    "students = '홍길동', '박찬호', '이용규', '박승철', '김지은'\r\n",
    "students = list(students)\r\n",
    "print(students)\r\n",
    "print(type(students))\r\n",
    "\r\n",
    "students = tuple(students)\r\n",
    "print(students)\r\n",
    "print(type(students))"
   ],
   "outputs": [
    {
     "output_type": "stream",
     "name": "stdout",
     "text": [
      "['홍길동', '박찬호', '이용규', '박승철', '김지은']\n",
      "<class 'list'>\n",
      "('홍길동', '박찬호', '이용규', '박승철', '김지은')\n",
      "<class 'tuple'>\n"
     ]
    }
   ],
   "metadata": {}
  },
  {
   "cell_type": "code",
   "execution_count": 54,
   "source": [
    "# 튜플을 이용한 점수표에서 최저, 최고 점수 삭제 후 평균\r\n",
    "playerScore = (9.5,8.9,9.2,9.8,9.9,9.0)\r\n",
    "print('playerScore:{}'.format(playerScore))\r\n",
    "print('playerScore type:{}'.format(type(playerScore)))\r\n",
    "\r\n",
    "playerScore = list(playerScore)\r\n",
    "playerScore.sort()\r\n",
    "print('playerScore:{}'.format(playerScore))\r\n",
    "\r\n",
    "playerScore.pop(0) #최저점수 제거\r\n",
    "playerScore.pop(-1) #최고점수 제거 # len(playerScore) - 1\r\n",
    "playerScore"
   ],
   "outputs": [
    {
     "output_type": "stream",
     "name": "stdout",
     "text": [
      "playerScore:(9.5, 8.9, 9.2, 9.8, 9.9, 9.0)\n",
      "playerScore type:<class 'tuple'>\n",
      "playerScore:[8.9, 9.0, 9.2, 9.5, 9.8, 9.9]\n"
     ]
    },
    {
     "output_type": "execute_result",
     "data": {
      "text/plain": [
       "[9.0, 9.2, 9.5, 9.8]"
      ]
     },
     "metadata": {},
     "execution_count": 54
    }
   ],
   "metadata": {}
  },
  {
   "cell_type": "code",
   "execution_count": 12,
   "source": [
    "playerScore = tuple(playerScore)\r\n",
    "type(playerScore)"
   ],
   "outputs": [
    {
     "output_type": "execute_result",
     "data": {
      "text/plain": [
       "tuple"
      ]
     },
     "metadata": {},
     "execution_count": 12
    }
   ],
   "metadata": {}
  },
  {
   "cell_type": "code",
   "execution_count": 21,
   "source": [
    "sum = 0\r\n",
    "avg = 0\r\n",
    "for score in playerScore:\r\n",
    "    sum += score \r\n",
    "avg = sum/len(playerScore)\r\n",
    "print('총점: % .2f' %sum )\r\n",
    "print('평군: % .2f' %avg)"
   ],
   "outputs": [
    {
     "output_type": "stream",
     "name": "stdout",
     "text": [
      "총점:  37.50\n",
      "평군:  9.38\n"
     ]
    }
   ],
   "metadata": {}
  },
  {
   "cell_type": "markdown",
   "source": [
    "### 튜플 아이템 정렬\r\n",
    "- 튜플은 sort()로 정렬불가. \r\n",
    "- 튜플은 수정 불가함으로 리스트로 변환 후 정렬.\r\n",
    "- sort()함수를 이용하면 아이템을 정렬할 수 있음.\r\n",
    "- sorted() 함수를 이용하면 튜플도 정렬할 수 있음.\r\n",
    "    - sorted()는 리스트 자료형 반환. -> 오름나순 정렬\r\n"
   ],
   "metadata": {}
  },
  {
   "cell_type": "code",
   "execution_count": 22,
   "source": [
    "students"
   ],
   "outputs": [
    {
     "output_type": "execute_result",
     "data": {
      "text/plain": [
       "('홍길동', '박찬호', '이용규', '박승철', '김지은')"
      ]
     },
     "metadata": {},
     "execution_count": 22
    }
   ],
   "metadata": {}
  },
  {
   "cell_type": "code",
   "execution_count": 24,
   "source": [
    "number = (2, 50, 0.12,1,9,7,17,35)\r\n",
    "print(number)\r\n",
    "print(type(number))\r\n"
   ],
   "outputs": [
    {
     "output_type": "stream",
     "name": "stdout",
     "text": [
      "(2, 50, 0.12, 1, 9, 7, 17, 35)\n",
      "<class 'tuple'>\n"
     ]
    }
   ],
   "metadata": {}
  },
  {
   "cell_type": "code",
   "execution_count": 30,
   "source": [
    "numbers = list(number)\r\n",
    "numbers.sort(reverse=True)\r\n",
    "numbers\r\n",
    "numbers = tuple(numbers)\r\n",
    "numbers "
   ],
   "outputs": [
    {
     "output_type": "execute_result",
     "data": {
      "text/plain": [
       "(50, 35, 17, 9, 7, 2, 1, 0.12)"
      ]
     },
     "metadata": {},
     "execution_count": 30
    }
   ],
   "metadata": {}
  },
  {
   "cell_type": "code",
   "execution_count": 33,
   "source": [
    "#자료구조 내장 함수 sorted()\r\n",
    "print(students)\r\n",
    "sortedStudents = sorted(students)\r\n",
    "sortedStudents"
   ],
   "outputs": [
    {
     "output_type": "stream",
     "name": "stdout",
     "text": [
      "('홍길동', '박찬호', '이용규', '박승철', '김지은')\n"
     ]
    },
    {
     "output_type": "execute_result",
     "data": {
      "text/plain": [
       "['김지은', '박승철', '박찬호', '이용규', '홍길동']"
      ]
     },
     "metadata": {},
     "execution_count": 33
    }
   ],
   "metadata": {}
  },
  {
   "cell_type": "code",
   "execution_count": 55,
   "source": [
    "# 최저, 최고 삭제, 총점평균 구하기\r\n",
    "playerScore = sorted(playerScore)\r\n",
    "playerScore.append(8.8)\r\n",
    "playerScore.append(9.9)\r\n",
    "playerScore.sort()\r\n",
    "playerScore.pop(0)\r\n",
    "playerScore.pop(len(playerScore)-1)\r\n",
    "playerScore = tuple(playerScore)\r\n",
    "playerScore"
   ],
   "outputs": [
    {
     "output_type": "execute_result",
     "data": {
      "text/plain": [
       "(9.0, 9.2, 9.5, 9.8)"
      ]
     },
     "metadata": {},
     "execution_count": 55
    }
   ],
   "metadata": {}
  },
  {
   "cell_type": "code",
   "execution_count": 49,
   "source": [
    "playerScore = (9.5,8.9,9.2,9.8,9.9,9.0)\r\n",
    "playerScore = sorted(playerScore)\r\n",
    "\r\n",
    "playerScore.pop(0)\r\n",
    "playerScore.pop(len(playerScore)-1)\r\n",
    "playerScore = tuple(playerScore)\r\n",
    "playerScore"
   ],
   "outputs": [
    {
     "output_type": "execute_result",
     "data": {
      "text/plain": [
       "[8.9, 9.0, 9.2, 9.5, 9.8]"
      ]
     },
     "metadata": {},
     "execution_count": 49
    }
   ],
   "metadata": {}
  },
  {
   "cell_type": "markdown",
   "source": [
    "## 딕셔너리\r\n",
    "- 키를 이용해서 자료구조를 다루자!\r\n",
    "- 키key와 값value을 이용해서 자료를 관리함.\r\n",
    "- 키 중복되지 않게 조심!\r\n",
    "- {} 를 이용해서 선언, '키:값' 의 형태로 아이템 정의.\r\n",
    "- 키와 값에는 숫자, 문자열, 논리형 뿐 아니라 컨테이너 자료형도 올 수 있음.\r\n",
    "- 탄, 키에 immutable 값은 올 수 있지만 mutable 값은 올 수 없다. 키에는 변경불가한 데이터만 올 수 있음."
   ],
   "metadata": {}
  },
  {
   "cell_type": "code",
   "execution_count": 57,
   "source": [
    "students = {'s1':'홍길동','s2':'박찬호','s3':'이용규','s4':['이용규','박세리']}\r\n",
    "print(type(students))"
   ],
   "outputs": [
    {
     "output_type": "stream",
     "name": "stdout",
     "text": [
      "<class 'dict'>\n"
     ]
    }
   ],
   "metadata": {}
  },
  {
   "cell_type": "code",
   "execution_count": 58,
   "source": [
    "# 나의 정보(이름, 전공, 메일, 주소 등)를 딕셔너리에 저장&출력\r\n",
    "\r\n",
    "myInfo = {'이름':'박경진', '전공':'computer','메일':'jin','학년':3, '주소':'대학민국 서울','취미':'요리'}\r\n",
    "myInfo "
   ],
   "outputs": [
    {
     "output_type": "execute_result",
     "data": {
      "text/plain": [
       "{'이름': '박경진',\n",
       " '전공': 'computer',\n",
       " '메일': 'jin',\n",
       " '학년': 3,\n",
       " '주소': '대학민국 서울',\n",
       " '취미': '요리'}"
      ]
     },
     "metadata": {},
     "execution_count": 58
    }
   ],
   "metadata": {}
  },
  {
   "cell_type": "markdown",
   "source": [
    "## 딕셔너리 조회\r\n",
    "- 딕셔너리는 키를 이용해서 값을 조회한다. -> my['name']\r\n",
    "- 존재하지 않는 키를 이용한 조회 시 에러 발생.\r\n",
    "- get(key)를 이용해서 값을 조회 할 수 있다.\r\n",
    "- get()은 key 가 없어도 에러가 발생하지 않음."
   ],
   "metadata": {}
  },
  {
   "cell_type": "code",
   "execution_count": 71,
   "source": [
    "students = {'s1':'홍길동','s2':'박세리','s3':'박찬호','s4':['이용구','이왕자']}\r\n",
    "print(students['s1'])\r\n",
    "print(students['s2'])\r\n",
    "print(students['s3'])\r\n",
    "print(students['s4'])\r\n",
    "print(students['s4'][1])\r\n",
    "print(students['s4'][0]) \r\n",
    "students.get('s1')"
   ],
   "outputs": [
    {
     "output_type": "stream",
     "name": "stdout",
     "text": [
      "홍길동\n",
      "박세리\n",
      "박찬호\n",
      "['이용구', '이왕자']\n",
      "이왕자\n",
      "이용구\n"
     ]
    },
    {
     "output_type": "execute_result",
     "data": {
      "text/plain": [
       "'홍길동'"
      ]
     },
     "metadata": {},
     "execution_count": 71
    }
   ],
   "metadata": {}
  },
  {
   "cell_type": "code",
   "execution_count": 79,
   "source": [
    "# 나의 정보(이름, 전공, 메일, 주소 등) -> [], get()사용\r\n",
    "myInfo\r\n",
    "print(myInfo['이름'])\r\n",
    "print(myInfo['메일'])\r\n",
    "print(myInfo['취미'])\r\n",
    "\r\n",
    "print(myInfo.get('이름'))\r\n",
    "print(myInfo.get('메일'))\r\n",
    "print(myInfo.get('주소'))\r\n",
    "\r\n"
   ],
   "outputs": [
    {
     "output_type": "stream",
     "name": "stdout",
     "text": [
      "박경진\n",
      "jin\n",
      "요리\n",
      "박경진\n",
      "jin\n",
      "대학민국 서울\n"
     ]
    }
   ],
   "metadata": {}
  },
  {
   "cell_type": "markdown",
   "source": [
    "## 딕셔너리 추가 \r\n",
    "- 키를 이용해서 아이템 추가\r\n",
    "- '딕셔너리 이름[키(key)] = 값' 형태로 아이템 추가. -> myInfo['이름'] = '손'\r\n",
    "- key 가 중복될 때 에러는 뜨지 않지만 원치 않는 변경 발생할 수 있음.\r\n",
    "- 추가 하려는 키가 이미 있다면 기존 값이 변경된다. "
   ],
   "metadata": {}
  },
  {
   "cell_type": "code",
   "execution_count": 86,
   "source": [
    "myInfo = {}\r\n",
    "\r\n",
    "myInfo['이름'] = '손'\r\n",
    "myInfo['학년'] = 3\r\n",
    "myInfo['주소'] = '서울'\r\n",
    "\r\n",
    "\r\n",
    "myInfo "
   ],
   "outputs": [
    {
     "output_type": "execute_result",
     "data": {
      "text/plain": [
       "{'이름': '손', '학년': 3, '주소': '서울'}"
      ]
     },
     "metadata": {},
     "execution_count": 86
    }
   ],
   "metadata": {}
  },
  {
   "cell_type": "code",
   "execution_count": 2,
   "source": [
    "# 학생 정보 입력받아 딕셔너리에 추가해보자.\r\n",
    "studentInfo = {}\r\n",
    "\r\n",
    "studentInfo['name'] = input('이름 입력:')\r\n",
    "studentInfo['grade'] = int(input('학년 입력:'))\r\n",
    "studentInfo['address'] = input('주소 입력:')\r\n",
    "studentInfo['mail'] = input('이메일 입력:')\r\n",
    "\r\n",
    "print(f'studentInfo:{studentInfo}')"
   ],
   "outputs": [
    {
     "output_type": "stream",
     "name": "stdout",
     "text": [
      "studentInfo:{'name': '손', 'grade': 3, 'address': '서울', 'mail': 'ar4@naver.com'}\n"
     ]
    }
   ],
   "metadata": {}
  },
  {
   "cell_type": "code",
   "execution_count": 3,
   "source": [
    "studentInfo"
   ],
   "outputs": [
    {
     "output_type": "execute_result",
     "data": {
      "text/plain": [
       "{'name': '손', 'grade': 3, 'address': '서울', 'mail': 'ar4@naver.com'}"
      ]
     },
     "metadata": {},
     "execution_count": 3
    }
   ],
   "metadata": {}
  },
  {
   "cell_type": "code",
   "execution_count": 89,
   "source": [
    "# 0부터 10까지의 각각의 정수에 대한 팩토리얼을 딕셔너리에 추가.\r\n",
    "factorialDic = {}\r\n",
    "\r\n",
    "for i in range(11):\r\n",
    "    if i == 0:\r\n",
    "        factorialDic[i] = 1\r\n",
    "    else:\r\n",
    "        for j in range(1,(i+1)):\r\n",
    "            factorialDic[i] = factorialDic[i-1] *j\r\n",
    "factorialDic\r\n",
    "\r\n"
   ],
   "outputs": [
    {
     "output_type": "execute_result",
     "data": {
      "text/plain": [
       "{0: 1,\n",
       " 1: 1,\n",
       " 2: 2,\n",
       " 3: 6,\n",
       " 4: 24,\n",
       " 5: 120,\n",
       " 6: 720,\n",
       " 7: 5040,\n",
       " 8: 40320,\n",
       " 9: 362880,\n",
       " 10: 3628800}"
      ]
     },
     "metadata": {},
     "execution_count": 89
    }
   ],
   "metadata": {}
  },
  {
   "cell_type": "markdown",
   "source": [
    "## 딕셔너리 수정\r\n",
    "- 키를 이용해서 값 수정\r\n",
    "- '딕셔너리 이름[키(key)] = 값' 형태로 아이템 수정. -> myInfo['이름'] = '손'"
   ],
   "metadata": {}
  },
  {
   "cell_type": "code",
   "execution_count": 5,
   "source": [
    "# 학생의 시험 점수가 60점 미만이면 'F(재시험)'으로 값 변경.\r\n",
    "scores = {'kor':88,'eng':55,'mat':85,'sci':57,'his':82}\r\n",
    "print(f'scores : {scores}')\r\n",
    "\r\n",
    "minScore = 60\r\n",
    "fail = 'F(재시험)'\r\n",
    "if scores['kor'] < minScore : \r\n",
    "    scores['kor'] = fail\r\n",
    "if scores['eng'] < minScore : \r\n",
    "    scores['eng'] = fail\r\n",
    "if scores['mat'] < minScore : \r\n",
    "    scores['mat'] = fail\r\n",
    "if scores['sci'] < minScore : \r\n",
    "    scores['sci'] = fail\r\n",
    "if scores['his'] < minScore : \r\n",
    "    scores['his'] = fail"
   ],
   "outputs": [
    {
     "output_type": "stream",
     "name": "stdout",
     "text": [
      "scores : {'kor': 88, 'eng': 55, 'mat': 85, 'sci': 57, 'his': 82}\n"
     ]
    }
   ],
   "metadata": {}
  },
  {
   "cell_type": "code",
   "execution_count": 17,
   "source": [
    "# 하루에 몸무게(kg)와 신장(m)이 각각 -0.3kg, +0.001m 씩 변한다고 할때, 30일 후의 몸무게, 신장, bmi 값 \r\n",
    "myBodyInfo = {'이름':'gildong','몸무게': 83, '신장': 1.8}\r\n",
    "myBMI = myBodyInfo['몸무게'] / myBodyInfo['신장'] ** 2\r\n",
    "print(f'myBodyInfo:{myBodyInfo}')\r\n",
    "print(f'myBMI:{round(myBMI, 2)}')\r\n",
    "\r\n",
    "date = 1\r\n",
    "while True:\r\n",
    "    \r\n",
    "    myBodyInfo['몸무게'] = round((myBodyInfo['몸무게'] - 0.3),2)\r\n",
    "    print('몸무게:{}'.format(myBodyInfo['몸무게']))\r\n",
    "\r\n",
    "    myBodyInfo['신장'] = round((myBodyInfo['신장'] + 0.001),2)\r\n",
    "    print('신장:{}'.format(myBodyInfo['신장']))\r\n",
    "\r\n",
    "    myBMI = myBodyInfo['몸무게'] / myBodyInfo['신장'] ** 2\r\n",
    "\r\n",
    "    if date >= 30:\r\n",
    "        break\r\n",
    "    date += 1\r\n",
    "\r\n",
    "print(f'myBodyInfo:{myBodyInfo}')\r\n",
    "print('BMI: %.2f' % myBMI)\r\n"
   ],
   "outputs": [
    {
     "output_type": "stream",
     "name": "stdout",
     "text": [
      "myBodyInfo:{'이름': 'gildong', '몸무게': 83, '신장': 1.8}\n",
      "myBMI:25.62\n",
      "몸무게:82.7\n",
      "신장:1.8\n",
      "몸무게:82.4\n",
      "신장:1.8\n",
      "몸무게:82.1\n",
      "신장:1.8\n",
      "몸무게:81.8\n",
      "신장:1.8\n",
      "몸무게:81.5\n",
      "신장:1.8\n",
      "몸무게:81.2\n",
      "신장:1.8\n",
      "몸무게:80.9\n",
      "신장:1.8\n",
      "몸무게:80.6\n",
      "신장:1.8\n",
      "몸무게:80.3\n",
      "신장:1.8\n",
      "몸무게:80.0\n",
      "신장:1.8\n",
      "몸무게:79.7\n",
      "신장:1.8\n",
      "몸무게:79.4\n",
      "신장:1.8\n",
      "몸무게:79.1\n",
      "신장:1.8\n",
      "몸무게:78.8\n",
      "신장:1.8\n",
      "몸무게:78.5\n",
      "신장:1.8\n",
      "몸무게:78.2\n",
      "신장:1.8\n",
      "몸무게:77.9\n",
      "신장:1.8\n",
      "몸무게:77.6\n",
      "신장:1.8\n",
      "몸무게:77.3\n",
      "신장:1.8\n",
      "몸무게:77.0\n",
      "신장:1.8\n",
      "몸무게:76.7\n",
      "신장:1.8\n",
      "몸무게:76.4\n",
      "신장:1.8\n",
      "몸무게:76.1\n",
      "신장:1.8\n",
      "몸무게:75.8\n",
      "신장:1.8\n",
      "몸무게:75.5\n",
      "신장:1.8\n",
      "몸무게:75.2\n",
      "신장:1.8\n",
      "몸무게:74.9\n",
      "신장:1.8\n",
      "몸무게:74.6\n",
      "신장:1.8\n",
      "몸무게:74.3\n",
      "신장:1.8\n",
      "몸무게:74.0\n",
      "신장:1.8\n",
      "myBodyInfo:{'이름': 'gildong', '몸무게': 74.0, '신장': 1.8}\n",
      "BMI: 22.84\n"
     ]
    }
   ],
   "metadata": {}
  },
  {
   "cell_type": "markdown",
   "source": [
    "## keys() 와 values()\r\n",
    "- 전체 키와 값 조회 가능 =>  dict.keys(), dict.values()\r\n",
    "- items() => 값을 아이템 하나하나로 변환(튜플 형태)\r\n",
    "- 리스트(list())로 변환 \r\n",
    "- for문을 이용한 조회\r\n",
    "- "
   ],
   "metadata": {}
  },
  {
   "cell_type": "code",
   "execution_count": 18,
   "source": [
    "for key in myBodyInfo.keys():\r\n",
    "    print(key)"
   ],
   "outputs": [
    {
     "output_type": "stream",
     "name": "stdout",
     "text": [
      "이름\n",
      "몸무게\n",
      "신장\n"
     ]
    }
   ],
   "metadata": {}
  },
  {
   "cell_type": "code",
   "execution_count": 19,
   "source": [
    "myBodyInfo.keys() #전체 데이터 조회 가능 "
   ],
   "outputs": [
    {
     "output_type": "execute_result",
     "data": {
      "text/plain": [
       "dict_keys(['이름', '몸무게', '신장'])"
      ]
     },
     "metadata": {},
     "execution_count": 19
    }
   ],
   "metadata": {}
  },
  {
   "cell_type": "code",
   "execution_count": 22,
   "source": [
    "# 학생 시험 점수 60점이하 'F(재시험)'-> keys()사용해서 변경\r\n",
    "scores = {'kor':88,'eng':55,'mat':85,'sci':57,'his':82}\r\n",
    "scores.keys()\r\n",
    "\r\n",
    "minScore = 60\r\n",
    "fdic = {}\r\n",
    "f = 'F(재시험)'\r\n",
    "\r\n",
    "for key in scores: \r\n",
    "    if scores[key] < minScore:\r\n",
    "        scores[key] = f\r\n",
    "        fdic[key] = f\r\n",
    "print(scores) \r\n",
    "print(fdic) "
   ],
   "outputs": [
    {
     "output_type": "stream",
     "name": "stdout",
     "text": [
      "{'kor': 88, 'eng': 'F(재시험)', 'mat': 85, 'sci': 'F(재시험)', 'his': 82}\n",
      "{'eng': 'F(재시험)', 'sci': 'F(재시험)'}\n"
     ]
    }
   ],
   "metadata": {}
  },
  {
   "cell_type": "markdown",
   "source": [
    "## 딕셔너리 삭제\r\n",
    "### del \r\n",
    "- del과 key를 이용한 item 삭제\r\n"
   ],
   "metadata": {}
  },
  {
   "cell_type": "code",
   "execution_count": 30,
   "source": [
    "memInfo = {'이름':'홍길동', '메일':'gildong@gmail.com', '학년':3, '취미':['농구','게임']}\r\n",
    "del memInfo['취미']\r\n",
    "memInfo"
   ],
   "outputs": [
    {
     "output_type": "execute_result",
     "data": {
      "text/plain": [
       "{'이름': '홍길동', '메일': 'gildong@gmail.com', '학년': 3}"
      ]
     },
     "metadata": {},
     "execution_count": 30
    }
   ],
   "metadata": {}
  },
  {
   "cell_type": "markdown",
   "source": [
    "### pop \r\n",
    "- pop과 key를 이용한 item 삭제\r\n",
    "- 함수로써 del과 다른 점:  데이터 반환 가능 -> 삭제된 데이터 반환 가능 -> dict.pop('이름')"
   ],
   "metadata": {}
  },
  {
   "cell_type": "code",
   "execution_count": 34,
   "source": [
    "# 최저, 최고 점수 삭제\r\n",
    "scores = {'score1':8.9, 'score2':8.1,'score3':8.5,'score4': 9.8,'score5':8.8}\r\n",
    "minScore = 10\r\n",
    "minScoreKey = ''\r\n",
    "maxScore = 0\r\n",
    "maxScoreKey = ''\r\n",
    "\r\n",
    "for key in scores.keys():\r\n",
    "\r\n",
    "    if scores[key] < minScore:\r\n",
    "        minScore = scores[key]\r\n",
    "        minScoreKey = key\r\n",
    "    if scores[key] > maxScore:\r\n",
    "        maxScore = scores[key]\r\n",
    "        maxScoreKey = key  \r\n",
    "print('minScore : {}'.format(minScore))\r\n",
    "print('minScoreKey : {}'.format(minScoreKey))\r\n",
    "print('maxScore : {}'.format(maxScore))\r\n",
    "print('maxScoreKey : {}'.format(maxScoreKey))\r\n",
    "\r\n",
    "print(scores)\r\n",
    "del scores['score2']\r\n",
    "scores.pop('score4')\r\n",
    "print(scores)\r\n"
   ],
   "outputs": [
    {
     "output_type": "stream",
     "name": "stdout",
     "text": [
      "minScore : 8.1\n",
      "minScoreKey : score2\n",
      "maxScore : 9.8\n",
      "maxScoreKey : score4\n",
      "{'score1': 8.9, 'score2': 8.1, 'score3': 8.5, 'score4': 9.8, 'score5': 8.8}\n",
      "{'score1': 8.9, 'score3': 8.5, 'score5': 8.8}\n"
     ]
    }
   ],
   "metadata": {}
  },
  {
   "cell_type": "markdown",
   "source": [
    "## 딕셔너리 유용한 기능\r\n",
    "- in, len(), clear()\r\n",
    "### in, not in\r\n",
    "- key 존재 유/무 판단\r\n",
    " "
   ],
   "metadata": {}
  },
  {
   "cell_type": "code",
   "execution_count": 37,
   "source": [
    "print(memInfo)\r\n",
    "print('이름' in memInfo)\r\n",
    "print('주소' in memInfo)\r\n",
    "print('주소' not in memInfo)"
   ],
   "outputs": [
    {
     "output_type": "stream",
     "name": "stdout",
     "text": [
      "{'이름': '홍길동', '메일': 'gildong@gmail.com', '학년': 3}\n",
      "True\n",
      "False\n",
      "True\n"
     ]
    }
   ],
   "metadata": {}
  },
  {
   "cell_type": "markdown",
   "source": [
    "### len()\r\n",
    "- 딕셔너리 길이(아이템 개수)"
   ],
   "metadata": {}
  },
  {
   "cell_type": "code",
   "execution_count": 38,
   "source": [
    "len(memInfo)"
   ],
   "outputs": [
    {
     "output_type": "execute_result",
     "data": {
      "text/plain": [
       "3"
      ]
     },
     "metadata": {},
     "execution_count": 38
    }
   ],
   "metadata": {}
  },
  {
   "cell_type": "markdown",
   "source": [
    "### clear()\r\n",
    "- 모든 아이템 삭제"
   ],
   "metadata": {}
  },
  {
   "cell_type": "code",
   "execution_count": 41,
   "source": [
    "memInfo.clear()\r\n",
    "memInfo"
   ],
   "outputs": [
    {
     "output_type": "execute_result",
     "data": {
      "text/plain": [
       "{}"
      ]
     },
     "metadata": {},
     "execution_count": 41
    }
   ],
   "metadata": {}
  },
  {
   "cell_type": "code",
   "execution_count": 51,
   "source": [
    "# 개인 정보에 연락처 , 주민등록번호 삭제\r\n",
    "myInfo = {'이름':'강강강',\r\n",
    " '나이' : '30', \r\n",
    " '연락처':'010-1234-5678', \r\n",
    " '주민등록번호': '299229- 0202929', \r\n",
    " '주소':'서울시'}\r\n",
    "myInfo"
   ],
   "outputs": [
    {
     "output_type": "execute_result",
     "data": {
      "text/plain": [
       "{'이름': '강강강',\n",
       " '나이': '30',\n",
       " '연락처': '010-1234-5678',\n",
       " '주민등록번호': '299229- 0202929',\n",
       " '주소': '서울시'}"
      ]
     },
     "metadata": {},
     "execution_count": 51
    }
   ],
   "metadata": {}
  },
  {
   "cell_type": "code",
   "execution_count": 52,
   "source": [
    "delkey = ['연락처','주민등록번호']\r\n",
    "for key in delkey:\r\n",
    "    if (key in delkey):\r\n",
    "        del myInfo[key]\r\n",
    "print(myInfo)"
   ],
   "outputs": [
    {
     "output_type": "stream",
     "name": "stdout",
     "text": [
      "{'이름': '강강강', '나이': '30', '주소': '서울시'}\n"
     ]
    }
   ],
   "metadata": {}
  },
  {
   "cell_type": "code",
   "execution_count": null,
   "source": [],
   "outputs": [],
   "metadata": {}
  }
 ],
 "metadata": {
  "orig_nbformat": 4,
  "language_info": {
   "name": "python",
   "version": "3.8.8",
   "mimetype": "text/x-python",
   "codemirror_mode": {
    "name": "ipython",
    "version": 3
   },
   "pygments_lexer": "ipython3",
   "nbconvert_exporter": "python",
   "file_extension": ".py"
  },
  "kernelspec": {
   "name": "python3",
   "display_name": "Python 3.8.8 64-bit ('base': conda)"
  },
  "interpreter": {
   "hash": "838183ee7b8555b431a91736167a55b3c95bb59a44782dde488817f7776386cb"
  }
 },
 "nbformat": 4,
 "nbformat_minor": 2
}