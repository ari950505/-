{
 "cells": [
  {
   "cell_type": "code",
   "execution_count": 1,
   "metadata": {},
   "outputs": [
    {
     "name": "stdout",
     "output_type": "stream",
     "text": [
      "국어 점수 : 25\n",
      "영어 점수 : 52\n",
      "수학 점수 : 80\n",
      "국어 점수 : 25\n",
      "영어 점수 : 52\n",
      "수학 점수 : 80\n",
      "합계 : 157\n"
     ]
    }
   ],
   "source": [
    "korScore = int(input('국어 점수 : '))\n",
    "engScore = int(input('영어 점수 : '))\n",
    "matScore = int(input('수학 점수 : '))\n",
    "\n",
    "totalScore = korScore + engScore + matScore\n",
    "\n",
    "print('국어 점수 : {}'.format(korScore))\n",
    "print('영어 점수 : {}'.format(engScore))\n",
    "print('수학 점수 : {}'.format(matScore))\n",
    "print('합계 : {}'.format(totalScore))"
   ]
  },
  {
   "cell_type": "code",
   "execution_count": 4,
   "metadata": {},
   "outputs": [
    {
     "name": "stdout",
     "output_type": "stream",
     "text": [
      "result : Good afternoon\n"
     ]
    }
   ],
   "source": [
    "#문지열 덧셈\n",
    "str1 = 'Good'\n",
    "str2 = ' '\n",
    "str3 = 'afternoon'\n",
    "\n",
    "result = str1 + str2 +str3\n",
    "print('result : {}'.format(result))\n"
   ]
  },
  {
   "cell_type": "code",
   "execution_count": 6,
   "metadata": {},
   "outputs": [
    {
     "name": "stdout",
     "output_type": "stream",
     "text": [
      "result : Hi Hi Hi Hi Hi Hi Hi \n"
     ]
    }
   ],
   "source": [
    "#문자열 곱셈\n",
    "str1 = 'Hi '\n",
    "result = str1 * 7\n",
    "print('result : {}'.format(result))"
   ]
  },
  {
   "cell_type": "code",
   "execution_count": 8,
   "metadata": {},
   "outputs": [
    {
     "name": "stdout",
     "output_type": "stream",
     "text": [
      "result : 3.3333333333333335\n",
      "result : 3.33\n"
     ]
    }
   ],
   "source": [
    "num1 = 10\n",
    "num2 = 3\n",
    "\n",
    "result = num1 / num2\n",
    "print('result : {}'.format(result))\n",
    "print('result : %.2f' % result)"
   ]
  },
  {
   "cell_type": "code",
   "execution_count": 16,
   "metadata": {},
   "outputs": [
    {
     "name": "stdout",
     "output_type": "stream",
     "text": [
      "result : (0, 2)\n",
      "result : 0\n"
     ]
    }
   ],
   "source": [
    "#몫과 나머지 동시에 구하기\n",
    "num1 = 2\n",
    "num2 = 5\n",
    "# divmod()\n",
    "result = divmod(num1,num2)\n",
    "print('result : {}'.format(result))\n",
    "print('result : {}'.format(result[0]))"
   ]
  },
  {
   "cell_type": "code",
   "execution_count": 12,
   "metadata": {},
   "outputs": [
    {
     "name": "stdout",
     "output_type": "stream",
     "text": [
      "result : 1.4142135623730951\n",
      "result : 1.41\n"
     ]
    }
   ],
   "source": [
    "#n의 m제곱근 공식\n",
    "# n ** (1/m)\n",
    "result = 2 ** (1/2)\n",
    "print('result : {}'.format(result))\n",
    "print('result : %.2f' % result)"
   ]
  },
  {
   "cell_type": "code",
   "execution_count": 26,
   "metadata": {},
   "outputs": [
    {
     "data": {
      "text/plain": [
       "390625.0"
      ]
     },
     "execution_count": 26,
     "metadata": {},
     "output_type": "execute_result"
    }
   ],
   "source": [
    "#제곱근 구하기 (어떤 수를 2번 곱했을 때뿐)\n",
    "import math\n",
    "math.sqrt(3) \n",
    "\n",
    "#pow() 함수 거듭제곱\n",
    "math.pow(5,8)"
   ]
  },
  {
   "cell_type": "code",
   "execution_count": 30,
   "metadata": {},
   "outputs": [
    {
     "name": "stdout",
     "output_type": "stream",
     "text": [
      "12개월 후 용돈 : 409600.0\n",
      "409,600 원\n"
     ]
    }
   ],
   "source": [
    "#아들이 엄마한테 용돈을 받는데, 첫 달에는 200원을 받고 매월 이전 달의 2배씩 인상. 12개월째 되는 달에는 \n",
    "#얼마를 받을 수 있는지 계산해보자. \n",
    "\n",
    "firstMonthMoney = 200\n",
    "after12Month = ((firstMonthMoney *0.01)**12) *100\n",
    "# x = 200 \n",
    "# x + x*2 + x*2*2 + x*2*2*2 \n",
    "print('12개월 후 용돈 : {}'.format(after12Month))\n",
    "after12Month = int(after12Month)\n",
    "strResult = format(after12Month,',') #세 자리 숫자에 , 찍기.\n",
    "print(strResult,'원')"
   ]
  },
  {
   "cell_type": "code",
   "execution_count": 35,
   "metadata": {},
   "outputs": [
    {
     "name": "stdout",
     "output_type": "stream",
     "text": [
      "num : 7\n",
      "num : 30\n",
      "num : 3.33\n",
      "num : 3\n"
     ]
    }
   ],
   "source": [
    "#복합 연산자\n",
    "#할당(대입) 연산자 \n",
    "\n",
    "num1 = 10\n",
    "num2 = 20\n",
    "result = num1 + num2 \n",
    "num1 += 5\n",
    "\n",
    "num = 10\n",
    "num -= 3 \n",
    "print('num : {}'.format(num))\n",
    "\n",
    "num = 10\n",
    "num *= 3 \n",
    "print('num : {}'.format(num))\n",
    "\n",
    "num = 10\n",
    "num /= 3 \n",
    "print('num : %.2f' % num)\n",
    "\n",
    "num = 10\n",
    "num //= 3 \n",
    "print('num : {}'.format(num))\n"
   ]
  },
  {
   "cell_type": "code",
   "execution_count": 37,
   "metadata": {},
   "outputs": [
    {
     "name": "stdout",
     "output_type": "stream",
     "text": [
      "1월 누적 강수량: 30mm\n"
     ]
    }
   ],
   "source": [
    "rainAmount = 0\n",
    "totalRainAmount = 0\n",
    "\n",
    "for i in range(1,13):\n",
    "    \n",
    "totalRainAmount += 30\n",
    "print('1월 누적 강수량: {}mm'.format(totalRainAmount))"
   ]
  },
  {
   "cell_type": "code",
   "execution_count": 41,
   "metadata": {},
   "outputs": [
    {
     "name": "stdout",
     "output_type": "stream",
     "text": [
      "최대 전장 길이 : 600\n",
      "최대 전폭 길이 : 9888\n",
      "전장 가능여부: False\n",
      "전폭 가능여부: False\n"
     ]
    }
   ],
   "source": [
    "#비교 연산자 - 숫자 비교\n",
    "#실습\n",
    "#자동차의 전장과 전폭을 입력하면 자동차 기계 세차 가능여부를 출력하는 코드를 작성해 보자. \n",
    "#(최대 전장 길이: 520mmm, 최대 전폭 길이: 1985mm)\n",
    "\n",
    "myCarLength = int(input('최대 전장 길이 : '))\n",
    "myCarWidth = int(input('최대 전폭 길이 : '))\n",
    "maxLength = 520\n",
    "maxWidth = 1985\n",
    "\n",
    "print('전장 가능여부: {}'.format(myCarLength <= maxLength))\n",
    "print('전폭 가능여부: {}'.format(myCarWidth <= maxWidth))"
   ]
  },
  {
   "cell_type": "code",
   "execution_count": null,
   "metadata": {},
   "outputs": [],
   "source": []
  }
 ],
 "metadata": {
  "kernelspec": {
   "display_name": "Python 3",
   "language": "python",
   "name": "python3"
  },
  "language_info": {
   "codemirror_mode": {
    "name": "ipython",
    "version": 3
   },
   "file_extension": ".py",
   "mimetype": "text/x-python",
   "name": "python",
   "nbconvert_exporter": "python",
   "pygments_lexer": "ipython3",
   "version": "3.8.5"
  },
  "toc": {
   "base_numbering": 1,
   "nav_menu": {},
   "number_sections": true,
   "sideBar": true,
   "skip_h1_title": false,
   "title_cell": "Table of Contents",
   "title_sidebar": "Contents",
   "toc_cell": false,
   "toc_position": {},
   "toc_section_display": true,
   "toc_window_display": false
  }
 },
 "nbformat": 4,
 "nbformat_minor": 4
}
