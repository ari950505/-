{
 "cells": [
  {
   "cell_type": "markdown",
   "metadata": {},
   "source": [
    "# 텍스트 파일 쓰기\n",
    "## 기본 함수\n",
    "- open(), read(), write(),close() 를 이용한 텍스트 파일 다루기 \n",
    "- open() -> read() or write() -> close() \n",
    "- write() 함수를 이용한 파일에 문자열 쓰기 \n",
    "## 파일 읽기\n",
    "- read() 함수를 이용한 파일 문자열 읽기 \n",
    "## 텍스트 파일 열기 모드\n",
    "### 파일 모드\n",
    "- 파일 모드는 파일을 어떤 목적으로 open 할지 결정\n",
    "    - 'w' : 쓰기 전용(파일이 있으면 덮어씌움)\n",
    "    - 'a' : 쓰기 전용(파일이 있으면 덧붙임)\n",
    "    - 'x' : 쓰기 전용(파일이 있으면 에러 발생)\n",
    "    - 'r' : 읽기 전용(파일이 없으면 에러 발생)\n",
    "## with ~ as 문\n",
    "- with ~ as 문을 이용하면 파일 닫기(close) 생략\n",
    "## writelines()\n",
    "- 반복 가능한 자료형의 데이터를 파일에 쓰자!!\n",
    "- writelines()는 리스트(list) 또는 튜플 데이터를 파일에 쓰기 위한 함수\n",
    "## readlines()  모두 \n",
    "- 파일의 모든 데이터를 읽어서 리스트 형태로 반환\n",
    "\n",
    "## readline()  한줄\n",
    "- 한 행을 읽어서 문자열로 반환"
   ]
  },
  {
   "cell_type": "code",
   "execution_count": 4,
   "metadata": {},
   "outputs": [
    {
     "name": "stdout",
     "output_type": "stream",
     "text": [
      "strCnt: 8\n"
     ]
    }
   ],
   "source": [
    "# write모드 때 파일 생성 (쓰기 모드로 파일을 연다)\n",
    "# w 모드는 기존에 있는 글자를 전부 지워버리고 새로운 문자열로 덮는다\n",
    "file = open('C:/Users/mina/제로베이스교육210913/coding/자료구조및알고리즘/파이썬중급/pythonTXT/test.txt', 'w') \n",
    "strCnt = file.write('Hello !!') \n",
    "print(f'strCnt: {strCnt}')\n",
    "\n",
    "file.close()\n"
   ]
  },
  {
   "cell_type": "code",
   "execution_count": 12,
   "metadata": {},
   "outputs": [
    {
     "name": "stdout",
     "output_type": "stream",
     "text": [
      "28\n"
     ]
    }
   ],
   "source": [
    "# 다음과 같이 시스템 시간과 일정을 텍스트 파일에 작성해보자!\n",
    "import time \n",
    "\n",
    "lt = time.localtime()\n",
    "\n",
    "# dateStr = '[' + str(lt.tm_year) + '년' + \\\n",
    "#     str(lt.tm_mon) + '월' + str(lt.tm_mday) + '일]'\n",
    "dateStr = '[' + time.strftime('%Y-%m-%d %H:%M:%S %p') + ']'     # %H -> %I\n",
    "\n",
    "todaySchedule = input('오늘 일정: ')\n",
    "\n",
    "file = open('C:/Users/mina/제로베이스교육210913/coding/자료구조및알고리즘/파이썬중급/pythonTXT/test.txt', 'w')\n",
    "cntStr = file.write(dateStr + todaySchedule)\n",
    "print(cntStr)\n",
    "file.close() #반드시 잊지말고!!"
   ]
  },
  {
   "cell_type": "markdown",
   "metadata": {},
   "source": [
    "## 파일 읽기\n",
    "- read() 함수를 이용한 파일 문자열 읽기\n"
   ]
  },
  {
   "cell_type": "code",
   "execution_count": 13,
   "metadata": {},
   "outputs": [
    {
     "name": "stdout",
     "output_type": "stream",
     "text": [
      "str:[2021-10-18 15:15:12 PM]집압청소\n"
     ]
    }
   ],
   "source": [
    "file = open('C:/Users/mina/제로베이스교육210913/coding/자료구조및알고리즘/파이썬중급/pythonTXT/test.txt', 'r')\n",
    "str = file.read() \n",
    "print(f'str:{str}')\n",
    "file.close()"
   ]
  },
  {
   "cell_type": "code",
   "execution_count": 17,
   "metadata": {},
   "outputs": [],
   "source": [
    "file = open('C:/Users/mina/제로베이스교육210913/coding/자료구조및알고리즘/파이썬중급/pythonTXT/python.txt', 'w')\n",
    "file.write(\"Python은 1991년 프로그래머인 귀도 반 로섬이 발표한 고급 프로그래밍 언어로 , 플랫폼에 독립적이며 인터프리터식, 객체지향적, 동적 타이핑(dynamically typed)대화형 언어이다. Python 이라는 이름은 귀도가 좋아하는 코미디 <Monty Python's Flying Circus>에서 따온 것이다\") \n",
    "file.close()"
   ]
  },
  {
   "cell_type": "code",
   "execution_count": 28,
   "metadata": {},
   "outputs": [
    {
     "name": "stdout",
     "output_type": "stream",
     "text": [
      "str:Python은 1991년 프로그래머인 귀도 반 로섬이 발표한 고급 프로그래밍 언어로 , 플랫폼에 독립적이며 인터프리터식, 객체지향적, 동적 타이핑(dynamically typed)대화형 언어이다. Python 이라는 이름은 귀도가 좋아하는 코미디 <Monty Python's Flying Circus>에서 따온 것이다\n",
      "파이썬은 1991년 프로그래머인 귀도 반 로섬이 발표한 고급 프로그래밍 언어로 , 플랫폼에 독립적이며 인터프리터식, 객체지향적, 동적 타이핑(dynamically typed)대화형 언어이다. 파이썬 이라는 이름은 귀도가 좋아하는 코미디 <Monty Python's Flying Circus>에서 따온 것이다\n"
     ]
    }
   ],
   "source": [
    "file = open('C:/Users/mina/제로베이스교육210913/coding/자료구조및알고리즘/파이썬중급/pythonTXT/python.txt', 'r',encoding='cp949')\n",
    "str = file.read() \n",
    "print(f'str:{str}')\n",
    "# str.replace('Python','파이썬') # 모든 글자 바뀜 \n",
    "str = str.replace('Python','파이썬',2) # 2개만 바뀜 \n",
    "print(str)\n",
    "file.close() # 외부자원 해제 장치"
   ]
  },
  {
   "cell_type": "markdown",
   "metadata": {},
   "source": [
    "## 텍스트 파일 열기 모드\n",
    "### 파일 모드\n",
    "- 파일 모드는 파일을 어떤 목적으로 open 할지 결정\n",
    "    - 'w' : 쓰기 전용(파일이 있으면 덮어씌움)\n",
    "    - 'a' : 쓰기 전용(파일이 있으면 덧붙임)\n",
    "    - 'x' : 쓰기 전용(파일이 있으면 에러 발생)\n",
    "    - 'r' : 읽기 전용(파일이 없으면 에러 발생)"
   ]
  },
  {
   "cell_type": "code",
   "execution_count": 34,
   "metadata": {},
   "outputs": [],
   "source": [
    "uri = 'C:/Users/mina/제로베이스교육210913/coding/자료구조및알고리즘/파이썬중급/pythonTXT/'\n",
    "file = open(uri + 'hello.txt', 'a')\n",
    "file.write('Hello world!!')\n",
    "file.close()\n"
   ]
  },
  {
   "cell_type": "code",
   "execution_count": 35,
   "metadata": {},
   "outputs": [
    {
     "name": "stdout",
     "output_type": "stream",
     "text": [
      "Hello world!!Hello world!!Hello world!!\n"
     ]
    }
   ],
   "source": [
    "uri = 'C:/Users/mina/제로베이스교육210913/coding/자료구조및알고리즘/파이썬중급/pythonTXT/'\n",
    "file = open(uri + 'hello.txt','r')\n",
    "str = file.read()\n",
    "print(str)\n",
    "file.close()"
   ]
  },
  {
   "cell_type": "code",
   "execution_count": 36,
   "metadata": {},
   "outputs": [],
   "source": [
    "file = open(uri + 'hello txt', 'x')\n",
    "file.write('\\nNice to meet you!!')\n",
    "file.close()"
   ]
  },
  {
   "cell_type": "code",
   "execution_count": 39,
   "metadata": {},
   "outputs": [
    {
     "name": "stdout",
     "output_type": "stream",
     "text": [
      "\n",
      "Nice to meet you!!\n"
     ]
    }
   ],
   "source": [
    "file = open(uri + 'hello txt', 'r')\n",
    "str = file.read()\n",
    "print(str)\n",
    "file.close()"
   ]
  },
  {
   "cell_type": "code",
   "execution_count": 8,
   "metadata": {},
   "outputs": [
    {
     "name": "stdout",
     "output_type": "stream",
     "text": [
      "0보다 큰 정수 입력: 100\n"
     ]
    }
   ],
   "source": [
    "# 사용자가 입력한 숫자에 대한 소수를 구하고 이를 파일에 작성.\n",
    "uri = 'C:/Users/mina/제로베이스교육210913/coding/자료구조및알고리즘/파이썬중급/pythonTXT/'\n",
    "def writePrimeNumber(n):\n",
    "    file = open(uri + 'prime_numbers.txt','a')\n",
    "    file.write(str(n))  #숫자로 바로쓰면 에러나기 때문에 str() 사용\n",
    "    file.write('\\n')\n",
    "    file.close()\n",
    "\n",
    "inputNumber = int(input('0보다 큰 정수 입력: '))\n",
    "for number in range(2,(inputNumber + 1)) :\n",
    "    flag = True \n",
    "    for n in range(2,number):\n",
    "        if number % n == 0:\n",
    "            flag = False\n",
    "            break \n",
    "\n",
    "    if flag:\n",
    "        writePrimeNumber(number)\n",
    "\n"
   ]
  },
  {
   "cell_type": "markdown",
   "metadata": {},
   "source": [
    "## with ~ as 문\n",
    "- with ~ as 문을 이용하면 파일 닫기(close) 생략\n"
   ]
  },
  {
   "cell_type": "code",
   "execution_count": 47,
   "metadata": {},
   "outputs": [
    {
     "name": "stdout",
     "output_type": "stream",
     "text": [
      "python study!!\n"
     ]
    }
   ],
   "source": [
    "with open(uri + '5_037.txt', 'a') as f:\n",
    "    f.write('python study!!')\n",
    "with open(uri + '5_037.txt', 'r') as f:\n",
    "    print(f.read())"
   ]
  },
  {
   "cell_type": "code",
   "execution_count": 12,
   "metadata": {},
   "outputs": [
    {
     "name": "stdout",
     "output_type": "stream",
     "text": [
      "rNums : [37, 18, 40, 4, 26, 10, 27]\n"
     ]
    }
   ],
   "source": [
    "# 로또 번호 생성기 프로그램 만들고 파일에 번호 출력\n",
    "import random\n",
    "\n",
    "uri = 'C:/Users/mina/제로베이스교육210913/coding/자료구조및알고리즘/파이썬중급/pythonTXT/'\n",
    "def writeNumbers(nums):\n",
    "    for idx, num in enumerate(nums):\n",
    "        with open(uri + 'lotto.txt', 'a') as f:\n",
    "            if idx < len(nums) - 2:\n",
    "                f.write(str(num) + ', ')\n",
    "            elif idx == len(nums) - 2:\n",
    "                f.write(str(num))\n",
    "            elif idx == len(nums) -1:\n",
    "                f.write('\\n')\n",
    "                f.write('Bonus:'+ str(num))\n",
    "                f.write('\\n')\n",
    "\n",
    "rNums = random.sample(range(1,46),7)\n",
    "print(f'rNums : {rNums}')\n",
    "\n",
    "writeNumbers(rNums)\n"
   ]
  },
  {
   "cell_type": "markdown",
   "metadata": {},
   "source": [
    "## writelines()\n",
    "- 반복 가능한 자료형의 데이터를 파일에 쓰자!!\n",
    "- writelines()는 리스트(list) 또는 튜플 데이터를 파일에 쓰기 위한 함수\n"
   ]
  },
  {
   "cell_type": "code",
   "execution_count": null,
   "metadata": {},
   "outputs": [],
   "source": [
    "# 1 \n",
    "languages = ['c/c++', 'java','c#','python','javascript']\n",
    "uri = 'C:/Users/mina/제로베이스교육210913/coding/자료구조및알고리즘/파이썬중급/pythonTXT/'\n",
    "for item in languages:\n",
    "    with open(uri + 'languages.txt' , 'a') as f:\n",
    "        f.write(item)\n",
    "        f.write('\\n')\n",
    "      \n",
    "\n",
    "    \n",
    "\n",
    "    \n"
   ]
  },
  {
   "cell_type": "code",
   "execution_count": 13,
   "metadata": {},
   "outputs": [
    {
     "name": "stdout",
     "output_type": "stream",
     "text": [
      "c/c++\n",
      "java\n",
      "c#\n",
      "python\n",
      "javascript\n",
      "\n"
     ]
    }
   ],
   "source": [
    "# 2\n",
    "languages = ['c/c++', 'java','c#','python','javascript']\n",
    "uri = 'C:/Users/mina/제로베이스교육210913/coding/자료구조및알고리즘/파이썬중급/pythonTXT/'\n",
    "with open(uri + 'languages.txt' , 'a') as f:\n",
    "          f.writelines(item + '\\n' for item in languages)\n",
    "with open(uri + 'languages.txt', 'r') as f:\n",
    "    print(f.read())\n",
    "    "
   ]
  },
  {
   "cell_type": "code",
   "execution_count": 16,
   "metadata": {},
   "outputs": [
    {
     "name": "stdout",
     "output_type": "stream",
     "text": [
      "kor\t:85\n",
      "eng\t:90\n",
      "math\t:92\n",
      "sci\t:82\n",
      "his\t:82\n",
      "kor\t:85\n",
      "eng\t:90\n",
      "math\t:92\n",
      "sci\t:82\n",
      "his\t:82\n",
      "\n"
     ]
    }
   ],
   "source": [
    "# 딕셔너리에 저장된 과목별 점수를 파일에 저장하는 코드 작성.\n",
    "uri = 'C:/Users/mina/제로베이스교육210913/coding/자료구조및알고리즘/파이썬중급/pythonTXT/'\n",
    "scoreDic = {'kor':85, 'eng' : 90, 'math':92, 'sci':82,'his':82 }\n",
    "for key in scoreDic.keys():\n",
    "    with open(uri + 'scoreDic.txt','a') as f:\n",
    "        f.write(key + '\\t:' + str(scoreDic[key]) + '\\n')\n",
    "        \n",
    "with open(uri + 'scoreDic.txt', 'r') as f:\n",
    "    print(f.read())"
   ]
  },
  {
   "cell_type": "code",
   "execution_count": 18,
   "metadata": {},
   "outputs": [],
   "source": [
    "#모양 그대로 파일에 쓰기 \n",
    "uri = 'C:/Users/mina/제로베이스교육210913/coding/자료구조및알고리즘/파이썬중급/pythonTXT/'\n",
    "scoreDic = {'kor':85, 'eng' : 90, 'math':92, 'sci':82,'his':82 }\n",
    "for key in scoreDic.keys():\n",
    "    with open(uri + 'score.txt','a') as f:\n",
    "        print(scoreDic, file = f)\n",
    "#         (key + '\\t:' + str(scoreDic[key]) + '\\n')"
   ]
  },
  {
   "cell_type": "code",
   "execution_count": null,
   "metadata": {},
   "outputs": [],
   "source": [
    "#리스트도 가능\n",
    "scoreList = [85,90,92,79,82]\n",
    "with open(uri+'scorelist.txt','a') as f :\n",
    "    print(scorelist, file =f)"
   ]
  },
  {
   "cell_type": "markdown",
   "metadata": {},
   "source": [
    "## readlines()  모두 \n",
    "- 파일의 모든 데이터를 읽어서 리스트 형태로 반환\n",
    "\n",
    "## readline()  한줄\n",
    "- 한 행을 읽어서 문자열로 반환"
   ]
  },
  {
   "cell_type": "code",
   "execution_count": 22,
   "metadata": {},
   "outputs": [
    {
     "name": "stdout",
     "output_type": "stream",
     "text": [
      "lanList: ['c/c++\\n', 'python\\n', 'java\\n', 'r\\n', 'javascript\\n']\n",
      "lanList type: <class 'list'>\n"
     ]
    }
   ],
   "source": [
    "uri = 'C:/Users/mina/제로베이스교육210913/coding/자료구조및알고리즘/파이썬중급/pythonTXT/'\n",
    "with open(uri + 'lens.txt', 'r') as f:\n",
    "    lanList = f.readlines()\n",
    "print(f'lanList: {lanList}')\n",
    "print(f'lanList type: {type(lanList)}') \n"
   ]
  },
  {
   "cell_type": "code",
   "execution_count": 21,
   "metadata": {},
   "outputs": [
    {
     "name": "stdout",
     "output_type": "stream",
     "text": [
      "line:c/c++\n",
      "\n",
      "line:python\n",
      "\n",
      "line:java\n",
      "\n",
      "line:r\n",
      "\n",
      "line:javascript\n",
      "\n"
     ]
    }
   ],
   "source": [
    "#하나씩 읽어오기\n",
    "with open(uri + 'lens.txt', 'r') as f:\n",
    "    line = f.readline()\n",
    "    \n",
    "    while line != '':\n",
    "        print(f'line:{line}')\n",
    "        line = f.readline() "
   ]
  },
  {
   "cell_type": "code",
   "execution_count": 26,
   "metadata": {},
   "outputs": [
    {
     "name": "stdout",
     "output_type": "stream",
     "text": [
      "{'kor': 85, 'eng': 90, 'math': 92, 'sci': 82, 'his': 82, 'mat': 92, 'sic': 79}\n"
     ]
    }
   ],
   "source": [
    "# 파일에 저장된 과목별 점수를 파이썬에서 읽어, 딕셔너리에 저장하는 코드 \n",
    "scores = {}\n",
    "\n",
    "uri = 'C:/Users/mina/제로베이스교육210913/coding/자료구조및알고리즘/파이썬중급/pythonTXT/'\n",
    "with open(uri + 'scores.txt' , 'r') as f:\n",
    "    line = f.readline()\n",
    "    \n",
    "    while line != '':\n",
    "#         print(line, end='')\n",
    "        tempList = line.split(':')\n",
    "        scoreDic[tempList[0]] = int(tempList[1].strip('\\n'))\n",
    "        line = f.readline()\n",
    "print(scoreDic)"
   ]
  },
  {
   "cell_type": "code",
   "execution_count": null,
   "metadata": {},
   "outputs": [],
   "source": []
  }
 ],
 "metadata": {
  "interpreter": {
   "hash": "838183ee7b8555b431a91736167a55b3c95bb59a44782dde488817f7776386cb"
  },
  "kernelspec": {
   "display_name": "Python 3",
   "language": "python",
   "name": "python3"
  },
  "language_info": {
   "codemirror_mode": {
    "name": "ipython",
    "version": 3
   },
   "file_extension": ".py",
   "mimetype": "text/x-python",
   "name": "python",
   "nbconvert_exporter": "python",
   "pygments_lexer": "ipython3",
   "version": "3.8.8"
  }
 },
 "nbformat": 4,
 "nbformat_minor": 2
}
