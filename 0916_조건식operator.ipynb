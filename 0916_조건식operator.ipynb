{
 "cells": [
  {
   "cell_type": "markdown",
   "metadata": {},
   "source": [
    "# 어떤 조건에 따라 실행이 분기 되는 식.\n",
    "\n",
    "A if 조건식 else B -> 조건식의 결과가 True이면 A실행, 그렇지 않으면 B 실행"
   ]
  },
  {
   "cell_type": "code",
   "execution_count": 4,
   "metadata": {},
   "outputs": [
    {
     "name": "stdout",
     "output_type": "stream",
     "text": [
      "num1 > num2 :False\n",
      "num1은 num2보다 크지 않다.\n",
      "None\n"
     ]
    }
   ],
   "source": [
    "num1 = 10\n",
    "num2 = 100\n",
    "numResult = True if num1 > num2 else False \n",
    "print('num1 > num2 :{}'. format(numResult))\n",
    "print('num1은 num2보다 크다.'if numResult else print('num1은 num2보다 크지 않다.'))"
   ]
  },
  {
   "cell_type": "markdown",
   "metadata": {},
   "source": [
    "## 실습\n",
    "적설량을 입력하고 적설량이 30mm 이상이면 대설 경보를 발령, else 대설 경보 해제."
   ]
  },
  {
   "cell_type": "code",
   "execution_count": 13,
   "metadata": {},
   "outputs": [
    {
     "name": "stdout",
     "output_type": "stream",
     "text": [
      "적설량 입력(mm) : 5\n",
      "snow >= 30: False\n",
      "적설량: 5mm 대설 경보 해제\n",
      "적설량: 5mm None\n"
     ]
    }
   ],
   "source": [
    "import operator \n",
    "\n",
    "limitSnowAmount = 30\n",
    "snow = int(input('적설량 입력(mm) : '))\n",
    "snowResult = True if snow >= 30 else False\n",
    "print('snow >= 30: {}'.format(snowResult))\n",
    "print('적설량: {}mm'.format(snow), '대설 경보 발령'if snowResult else print('적설량: {}mm'.format(snow),'대설 경보 해제'))"
   ]
  },
  {
   "cell_type": "code",
   "execution_count": 7,
   "metadata": {},
   "outputs": [
    {
     "name": "stdout",
     "output_type": "stream",
     "text": [
      "적설량 입력(mm) : 55\n",
      "적설량 : 55mm, 대설 경보 발령!!\n"
     ]
    }
   ],
   "source": [
    "limitSnowAmount = 30\n",
    "snow = int(input('적설량 입력(mm) : '))\n",
    "\n",
    "print('적설량 : {}mm, {}'.format(snow, '대설 경보 발령!!')) if snow >= limitSnowAmount else \\\n",
    "    print('적설량: {}mm, {}'.format(snow, '대설 경보 해제~~'))"
   ]
  },
  {
   "cell_type": "markdown",
   "metadata": {},
   "source": [
    "## 실습\n",
    "국어, 영어, 수학 점수를 입력하면 조건식을 이용해서 과목별 결과와 전체 결과를 출력하는 코드를 작성해보자\n",
    "과목별 합격 점수: 60점\n",
    "전체 합격 평균 점수: 70점"
   ]
  },
  {
   "cell_type": "code",
   "execution_count": 17,
   "metadata": {},
   "outputs": [
    {
     "name": "stdout",
     "output_type": "stream",
     "text": [
      "수학점수를 입력하세요 : 50\n",
      "영어점수를 입력하세요 : 20\n",
      "국어점수를 입력하세요 : 100\n",
      "국어 : PASS\n",
      "수학: FAIL\n",
      "영어: FAIL\n",
      "시험: FAIL\n",
      "총점 : 170, 평균 : 56.67\n"
     ]
    }
   ],
   "source": [
    "passScore = 60\n",
    "allPassScore = 70\n",
    "\n",
    "math = int(input('수학점수를 입력하세요 : '))\n",
    "eng = int(input('영어점수를 입력하세요 : '))\n",
    "kor = int(input('국어점수를 입력하세요 : '))\n",
    "totalScore = kor + math + eng\n",
    "scoreAvg = totalScore /3\n",
    "\n",
    "print('국어 : PASS') if operator.ge(kor,passScore) else print('국어: FAIL')\n",
    "print('수학 : PASS') if operator.ge(math,passScore) else print('수학: FAIL')\n",
    "print('영어 : PASS') if operator.ge(eng,passScore) else print('영어: FAIL')\n",
    "print('시험 : PASS') if operator.ge(scoreAvg,allPassScore) else print('시험: FAIL')\n",
    "\n",
    "print('총점 : %d, 평균 : %.2f' % (totalScore, scoreAvg))"
   ]
  },
  {
   "cell_type": "code",
   "execution_count": null,
   "metadata": {},
   "outputs": [],
   "source": []
  }
 ],
 "metadata": {
  "kernelspec": {
   "display_name": "Python 3",
   "language": "python",
   "name": "python3"
  },
  "language_info": {
   "codemirror_mode": {
    "name": "ipython",
    "version": 3
   },
   "file_extension": ".py",
   "mimetype": "text/x-python",
   "name": "python",
   "nbconvert_exporter": "python",
   "pygments_lexer": "ipython3",
   "version": "3.8.5"
  },
  "toc": {
   "base_numbering": 1,
   "nav_menu": {},
   "number_sections": true,
   "sideBar": true,
   "skip_h1_title": false,
   "title_cell": "Table of Contents",
   "title_sidebar": "Contents",
   "toc_cell": false,
   "toc_position": {},
   "toc_section_display": true,
   "toc_window_display": false
  }
 },
 "nbformat": 4,
 "nbformat_minor": 4
}
