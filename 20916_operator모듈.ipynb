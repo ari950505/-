{
 "cells": [
  {
   "cell_type": "code",
   "execution_count": 8,
   "metadata": {},
   "outputs": [
    {
     "name": "stdout",
     "output_type": "stream",
     "text": [
      "8 + 3 : 11\n",
      "8 - 3 : 5\n",
      "8 * 3 : 24\n",
      "8 / 3 : 2.6666666666666665\n",
      "8 % 3 : 2\n",
      "8 // 3 : 2\n",
      "8 ** 3 : 512\n"
     ]
    }
   ],
   "source": [
    "import operator\n",
    "\n",
    "# operator.add()\n",
    "# operator.sub()\n",
    "# operator.mul()\n",
    "# operator.truediv()\n",
    "# operator.mod()\n",
    "# operator.floordiv()\n",
    "# operator.pow()\n",
    "\n",
    "num1= 8\n",
    "num2 = 3\n",
    "\n",
    "print('{} + {} : {}'.format(num1,num2,operator.add(num1,num2)))\n",
    "print('{} - {} : {}'.format(num1,num2,operator.sub(num1,num2)))\n",
    "print('{} * {} : {}'.format(num1,num2,operator.mul(num1,num2)))\n",
    "print('{} / {} : {}'.format(num1,num2,operator.truediv(num1,num2)))\n",
    "print('{} % {} : {}'.format(num1,num2,operator.mod(num1,num2)))\n",
    "print('{} // {} : {}'.format(num1,num2,operator.floordiv(num1,num2)))\n",
    "print('{} ** {} : {}'.format(num1,num2,operator.pow(num1,num2)))"
   ]
  },
  {
   "cell_type": "code",
   "execution_count": 9,
   "metadata": {},
   "outputs": [
    {
     "name": "stdout",
     "output_type": "stream",
     "text": [
      "8 == 3 : False\n",
      "8 != 3 : True\n",
      "8 / 3 : True\n",
      "8 % 3 : True\n",
      "8 < 3 : False\n",
      "8 <= 3 : False\n"
     ]
    }
   ],
   "source": [
    "#비교 연산자 관련 함수\n",
    "num1= 8\n",
    "num2 = 3\n",
    "\n",
    "print('{} == {} : {}'.format(num1,num2,operator.eq(num1,num2)))\n",
    "print('{} != {} : {}'.format(num1,num2,operator.ne(num1,num2)))\n",
    "print('{} / {} : {}'.format(num1,num2,operator.gt(num1,num2)))\n",
    "print('{} % {} : {}'.format(num1,num2,operator.ge(num1,num2)))\n",
    "print('{} < {} : {}'.format(num1,num2,operator.lt(num1,num2)))\n",
    "print('{} <= {} : {}'.format(num1,num2,operator.le(num1,num2)))"
   ]
  },
  {
   "cell_type": "code",
   "execution_count": 13,
   "metadata": {},
   "outputs": [
    {
     "name": "stdout",
     "output_type": "stream",
     "text": [
      "True and False : False\n",
      "True or False : True\n",
      "True not False : False\n"
     ]
    }
   ],
   "source": [
    "#논리 연산자 관련 함수\n",
    "flag1 = True\n",
    "flag2 = False\n",
    "\n",
    "print('{} and {} : {}'.format(flag1,flag2,operator.and_(flag1,flag2)))\n",
    "print('{} or {} : {}'.format(flag1,flag2,operator.or_(flag1,flag2)))\n",
    "print('{} not {} : {}'.format(flag1,flag2,operator.not_(flag1)))"
   ]
  },
  {
   "cell_type": "markdown",
   "metadata": {},
   "source": [
    "### 실습\n",
    "#### 백신 접종 대상자는 20세 미만 또는 65세 이상자에 한합니다 를 논리연산자를 이용해서 코딩해 보자. "
   ]
  },
  {
   "cell_type": "code",
   "execution_count": 20,
   "metadata": {},
   "outputs": [
    {
     "name": "stdout",
     "output_type": "stream",
     "text": [
      "나이 입력 : 20\n",
      "age: 20,vaccine:False\n"
     ]
    }
   ],
   "source": [
    "\n",
    "import operator \n",
    "age = int(input('나이 입력 : '))\n",
    "vaccine = operator.or_(operator.lt(age,20),operator.ge(age,65))\n",
    "print('age: {},vaccine:{}'.format(age,vaccine))\n"
   ]
  },
  {
   "cell_type": "markdown",
   "metadata": {},
   "source": [
    "### 실습\n",
    "#### random과 operator 모듈을 사용해서 10부터 100사이의 난수 중 십의 자리와 일의 자리가 각각 3의 배수인지 판단하는 코드를 작성해 보자."
   ]
  },
  {
   "cell_type": "code",
   "execution_count": 28,
   "metadata": {},
   "outputs": [
    {
     "name": "stdout",
     "output_type": "stream",
     "text": [
      "난수 : 77\n",
      "십의 자리 : 7\n",
      "일의 자리 : 7\n",
      "십의 자리는 3의 배수이다.: False\n",
      "일의 자리는 3의 배수이다.: False\n"
     ]
    }
   ],
   "source": [
    "import random \n",
    "\n",
    "rInt = random.randint(10,100)\n",
    "\n",
    "num10 = operator.floordiv(rInt,10)\n",
    "num1 = operator.mod(rInt,10)\n",
    "\n",
    "print('난수 : {}'.format(rInt))\n",
    "print('십의 자리 : {}'.format(num10))\n",
    "print('일의 자리 : {}'.format(num1))\n",
    "\n",
    "print('십의 자리는 3의 배수이다.: {}'.format(operator.mod(num10,3)==0))\n",
    "print('일의 자리는 3의 배수이다.: {}'.format(operator.mod(num1,3)==0))"
   ]
  },
  {
   "cell_type": "code",
   "execution_count": null,
   "metadata": {},
   "outputs": [],
   "source": []
  },
  {
   "cell_type": "code",
   "execution_count": null,
   "metadata": {},
   "outputs": [],
   "source": []
  },
  {
   "cell_type": "code",
   "execution_count": null,
   "metadata": {},
   "outputs": [],
   "source": []
  }
 ],
 "metadata": {
  "kernelspec": {
   "display_name": "Python 3",
   "language": "python",
   "name": "python3"
  },
  "language_info": {
   "codemirror_mode": {
    "name": "ipython",
    "version": 3
   },
   "file_extension": ".py",
   "mimetype": "text/x-python",
   "name": "python",
   "nbconvert_exporter": "python",
   "pygments_lexer": "ipython3",
   "version": "3.8.5"
  },
  "toc": {
   "base_numbering": 1,
   "nav_menu": {},
   "number_sections": true,
   "sideBar": true,
   "skip_h1_title": false,
   "title_cell": "Table of Contents",
   "title_sidebar": "Contents",
   "toc_cell": false,
   "toc_position": {},
   "toc_section_display": true,
   "toc_window_display": false
  }
 },
 "nbformat": 4,
 "nbformat_minor": 4
}
