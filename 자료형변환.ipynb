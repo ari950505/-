{
 "cells": [
  {
   "cell_type": "code",
   "execution_count": 68,
   "metadata": {},
   "outputs": [
    {
     "data": {
      "text/plain": [
       "'GoodGoodGoodGoodGood'"
      ]
     },
     "execution_count": 68,
     "metadata": {},
     "output_type": "execute_result"
    }
   ],
   "source": [
    "'Good' *5"
   ]
  },
  {
   "cell_type": "code",
   "execution_count": 1,
   "metadata": {},
   "outputs": [
    {
     "name": "stdout",
     "output_type": "stream",
     "text": [
      "오늘의 날씨를 입력하세요: 오늘은 덥다\n"
     ]
    }
   ],
   "source": [
    "#오늘의 날씨를 입력하고 출력해 보자\n",
    "userInputData = input('오늘의 날씨를 입력하세요: ')"
   ]
  },
  {
   "cell_type": "code",
   "execution_count": 8,
   "metadata": {},
   "outputs": [
    {
     "data": {
      "text/plain": [
       "10"
      ]
     },
     "execution_count": 8,
     "metadata": {},
     "output_type": "execute_result"
    }
   ],
   "source": [
    "#str, int, float, bool\n",
    "a = 10\n",
    "# a= str(a)\n",
    "type(a)\n",
    "a"
   ]
  },
  {
   "cell_type": "code",
   "execution_count": 17,
   "metadata": {},
   "outputs": [
    {
     "name": "stdout",
     "output_type": "stream",
     "text": [
      "TrueFalse\n"
     ]
    }
   ],
   "source": [
    "a = 'True'\n",
    "b = 'False'\n",
    "print(a+b)"
   ]
  },
  {
   "cell_type": "code",
   "execution_count": 19,
   "metadata": {},
   "outputs": [
    {
     "name": "stdout",
     "output_type": "stream",
     "text": [
      "2\n"
     ]
    }
   ],
   "source": [
    "#true = 1 , false = 0\n",
    "a = bool(a)\n",
    "b = bool(b)\n",
    "print(a+b)\n",
    "# print(a+b)"
   ]
  },
  {
   "cell_type": "code",
   "execution_count": 4,
   "metadata": {},
   "outputs": [
    {
     "name": "stdout",
     "output_type": "stream",
     "text": [
      "이름 입력: 홍길동\n",
      "홍길동\n",
      "<class 'str'>\n"
     ]
    }
   ],
   "source": [
    "#사용자 이름을 입력하고 입력한 데이터의 자료형을 확인하는 코드를 작성해보자.\n",
    "userName = input('이름 입력: ')\n",
    "\n",
    "print(userName)\n",
    "print(type(userName))"
   ]
  },
  {
   "cell_type": "code",
   "execution_count": 3,
   "metadata": {},
   "outputs": [
    {
     "name": "stdout",
     "output_type": "stream",
     "text": [
      "가로 길이 입력 : 10\n",
      "세로 길이 입력 : 5\n",
      "50\n",
      "25.0\n"
     ]
    }
   ],
   "source": [
    "\n",
    "#사용자가 가로, 세로 길이를 입력하면 삼각형과 사각형의 넓이가 출력되는 코드를 작성해보자. \n",
    "width = int(input('가로 길이 입력 : '))\n",
    "height = int(input('세로 길이 입력 : '))\n",
    "\n",
    "print(width * height)\n",
    "print(width * height / 2)"
   ]
  },
  {
   "cell_type": "code",
   "execution_count": 23,
   "metadata": {},
   "outputs": [
    {
     "name": "stdout",
     "output_type": "stream",
     "text": [
      "sohn mina\n",
      "20\n",
      "User name :  sohn mina, User age :  20\n",
      "3 * 5 = 15\n"
     ]
    }
   ],
   "source": [
    "userName = 'sohn mina'\n",
    "print(userName)\n",
    "\n",
    "userAge = 20\n",
    "print(userAge)\n",
    "\n",
    "print('User name : ', userName, end=', ')\n",
    "print('User age : ', userAge)\n",
    "print('3 * 5 = ', end='') # \\n\n",
    "print(3 * 5)"
   ]
  },
  {
   "cell_type": "code",
   "execution_count": 31,
   "metadata": {},
   "outputs": [
    {
     "name": "stdout",
     "output_type": "stream",
     "text": [
      "User name : sohn mina\n",
      "User age: 20\n",
      "User name : sohn mina, User age: 20\n",
      "User name : \tsohn mina \n",
      " User age: \t20\n"
     ]
    }
   ],
   "source": [
    "#포맷 문자열을 이용한 데이터 출력 -> f''\n",
    "print(f'User name : {userName}')\n",
    "print(f'User age: {userAge}')\n",
    "print(f'User name : {userName}, User age: {userAge}')\n",
    "\n",
    "#특수문자 \\n(개행) \\t(tab 4)\n",
    "print(f'User name : \\t{userName} \\n User age: \\t{userAge}')"
   ]
  },
  {
   "cell_type": "code",
   "execution_count": 37,
   "metadata": {},
   "outputs": [
    {
     "name": "stdout",
     "output_type": "stream",
     "text": [
      "가로 길이 : 20\n",
      "세로 길이 : 10\n",
      "width : 10, height : 23 , triangle : 115.0\n"
     ]
    }
   ],
   "source": [
    "width = int(input('가로 길이 : '))\n",
    "width = int(input('세로 길이 : '))\n",
    "\n",
    "triangle = width * height / 2\n",
    "print(f'width : {width}, height : {height} , triangle : {triangle}')"
   ]
  },
  {
   "cell_type": "code",
   "execution_count": 36,
   "metadata": {},
   "outputs": [
    {
     "name": "stdout",
     "output_type": "stream",
     "text": [
      "가로 길이 : 3\n",
      "세로 길이 : 23\n",
      "width :  3,height :  3, triangle :  34.5\n"
     ]
    }
   ],
   "source": [
    "width = int(input('가로 길이 : '))\n",
    "height = int(input('세로 길이 : '))\n",
    "triangle = width * height / 2\n",
    "print('width : ', width, end='')\n",
    "print(',height : ', height, end='')\n",
    "print(', triangle : ', triangle)"
   ]
  },
  {
   "cell_type": "code",
   "execution_count": 48,
   "metadata": {},
   "outputs": [
    {
     "name": "stdout",
     "output_type": "stream",
     "text": [
      "User name : sohn mina\n",
      "User age : 20\n",
      "User name : sohn mina, User age: 20\n",
      "나의 이름은 : sohn mina 이고, \n",
      "나의 나이는 : 20살 입니다. sohn mina 이라는 이름은 아버지께서 지어주셨습니다.\n",
      "나의 이름은 : sohn mina 이고, 나의 나이는 : 20살 입니다.\n"
     ]
    }
   ],
   "source": [
    "#format() 함수\n",
    "#format() 함수를 이용한 데이터 출력\n",
    "print('User name : {}'.format(userName))\n",
    "print('User age : {}'.format(userAge))\n",
    "print('User name : {}, User age: {}'.format(userName, userAge))\n",
    "\n",
    "#format() 함수의 인덱스를 이용한 출력\n",
    "print('나의 이름은 : {0} 이고, \\n나의 나이는 : {1}살 입니다. {0} 이라는 이름은 아버지께서 지어주셨습니다.'\n",
    "      .format(userName, userAge))\n",
    "print('나의 이름은 : {} 이고, 나의 나이는 : {}살 입니다.'.format(userName, userAge)) "
   ]
  },
  {
   "cell_type": "code",
   "execution_count": 49,
   "metadata": {},
   "outputs": [
    {
     "name": "stdout",
     "output_type": "stream",
     "text": [
      "User name : sohn mina\n",
      "User age : 20\n",
      "User name : sohn mina, User age : 20\n"
     ]
    }
   ],
   "source": [
    "#형식 문자 \n",
    "# 형식 문자를 이용한 데이터 출력\n",
    "print('User name : %s' % userName)\n",
    "print('User age : %d'% userAge)\n",
    "print('User name : %s, User age : %d'  % (userName, userAge))\n"
   ]
  },
  {
   "cell_type": "code",
   "execution_count": 52,
   "metadata": {},
   "outputs": [
    {
     "name": "stdout",
     "output_type": "stream",
     "text": [
      "Pi : 3.140000\n",
      "Pi : 3.14\n",
      "Pi : 3.1400\n"
     ]
    }
   ],
   "source": [
    "#소수점 자리수 정하기\n",
    "# %.nf\n",
    "\n",
    "pi = 3.14\n",
    "print('pi : %f' % pi)\n",
    "print('pi : %.2f' % pi)\n",
    "print('pi : %.4f' % pi)"
   ]
  },
  {
   "cell_type": "code",
   "execution_count": 56,
   "metadata": {},
   "outputs": [
    {
     "name": "stdout",
     "output_type": "stream",
     "text": [
      "반지름 입력 : 23\n",
      "원주율 입력: 3.141592\n",
      "radius: 23.00\n",
      "pi: 3.14\n"
     ]
    }
   ],
   "source": [
    "radius = float(input('반지름 입력 : '))\n",
    "pi = float(input('원주율 입력: '))\n",
    "\n",
    "print('radius: %.2f' % radius)\n",
    "print('pi: %.2f' % pi)"
   ]
  },
  {
   "cell_type": "code",
   "execution_count": 63,
   "metadata": {},
   "outputs": [
    {
     "data": {
      "text/plain": [
       "True"
      ]
     },
     "execution_count": 63,
     "metadata": {},
     "output_type": "execute_result"
    }
   ],
   "source": [
    "bool([0])"
   ]
  },
  {
   "cell_type": "code",
   "execution_count": 64,
   "metadata": {},
   "outputs": [],
   "source": [
    "zero_base = 'education'"
   ]
  },
  {
   "cell_type": "code",
   "execution_count": 65,
   "metadata": {},
   "outputs": [
    {
     "ename": "SyntaxError",
     "evalue": "invalid syntax (<ipython-input-65-b9a67d0220f8>, line 1)",
     "output_type": "error",
     "traceback": [
      "\u001b[1;36m  File \u001b[1;32m\"<ipython-input-65-b9a67d0220f8>\"\u001b[1;36m, line \u001b[1;32m1\u001b[0m\n\u001b[1;33m    4f = 4.15\u001b[0m\n\u001b[1;37m     ^\u001b[0m\n\u001b[1;31mSyntaxError\u001b[0m\u001b[1;31m:\u001b[0m invalid syntax\n"
     ]
    }
   ],
   "source": [
    "4f = 4.15"
   ]
  },
  {
   "cell_type": "code",
   "execution_count": 66,
   "metadata": {},
   "outputs": [],
   "source": [
    "DATA = 1"
   ]
  },
  {
   "cell_type": "code",
   "execution_count": 67,
   "metadata": {},
   "outputs": [],
   "source": [
    "population = 99999999999999999999999999999999999999999999999999999999999"
   ]
  },
  {
   "cell_type": "code",
   "execution_count": null,
   "metadata": {},
   "outputs": [],
   "source": []
  }
 ],
 "metadata": {
  "interpreter": {
   "hash": "ef7f9a8012d9131766e31894c279374cc63c73121ed4db3b9e67a294a4bf0e74"
  },
  "kernelspec": {
   "display_name": "Python 3",
   "language": "python",
   "name": "python3"
  },
  "language_info": {
   "codemirror_mode": {
    "name": "ipython",
    "version": 3
   },
   "file_extension": ".py",
   "mimetype": "text/x-python",
   "name": "python",
   "nbconvert_exporter": "python",
   "pygments_lexer": "ipython3",
   "version": "3.8.5"
  },
  "toc": {
   "base_numbering": 1,
   "nav_menu": {},
   "number_sections": true,
   "sideBar": true,
   "skip_h1_title": false,
   "title_cell": "Table of Contents",
   "title_sidebar": "Contents",
   "toc_cell": false,
   "toc_position": {},
   "toc_section_display": true,
   "toc_window_display": false
  }
 },
 "nbformat": 4,
 "nbformat_minor": 2
}
