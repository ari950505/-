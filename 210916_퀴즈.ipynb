{
 "cells": [
  {
   "cell_type": "code",
   "execution_count": 1,
   "metadata": {},
   "outputs": [
    {
     "data": {
      "text/plain": [
       "True"
      ]
     },
     "execution_count": 1,
     "metadata": {},
     "output_type": "execute_result"
    }
   ],
   "source": [
    "a = True\n",
    "b = False \n",
    "(a or b) and a "
   ]
  },
  {
   "cell_type": "code",
   "execution_count": 2,
   "metadata": {},
   "outputs": [
    {
     "data": {
      "text/plain": [
       "[1,\n",
       " 2,\n",
       " '3의배수',\n",
       " 4,\n",
       " 5,\n",
       " '3의배수',\n",
       " 7,\n",
       " 8,\n",
       " '3의배수',\n",
       " 10,\n",
       " 11,\n",
       " '3의배수',\n",
       " 13,\n",
       " 14,\n",
       " '3의배수',\n",
       " 16,\n",
       " 17,\n",
       " '3의배수',\n",
       " 19]"
      ]
     },
     "execution_count": 2,
     "metadata": {},
     "output_type": "execute_result"
    }
   ],
   "source": [
    "ls = range(1,20)\n",
    "result=[]\n",
    "result = [\"3의배수\" if(data%3 == 0) else data for data in ls]\n",
    "result"
   ]
  },
  {
   "cell_type": "code",
   "execution_count": 3,
   "metadata": {},
   "outputs": [
    {
     "ename": "SyntaxError",
     "evalue": "invalid syntax (<ipython-input-3-9b14b600644d>, line 3)",
     "output_type": "error",
     "traceback": [
      "\u001b[1;36m  File \u001b[1;32m\"<ipython-input-3-9b14b600644d>\"\u001b[1;36m, line \u001b[1;32m3\u001b[0m\n\u001b[1;33m    result = [for data in ls if(data%3 == 0) \"3의 배수\" else data]\u001b[0m\n\u001b[1;37m              ^\u001b[0m\n\u001b[1;31mSyntaxError\u001b[0m\u001b[1;31m:\u001b[0m invalid syntax\n"
     ]
    }
   ],
   "source": [
    "ls = range(1,20)\n",
    "result=[]\n",
    "result = [for data in ls if(data%3 == 0) \"3의 배수\" else data]\n",
    "result"
   ]
  },
  {
   "cell_type": "code",
   "execution_count": 4,
   "metadata": {},
   "outputs": [
    {
     "data": {
      "text/plain": [
       "['3의배수',\n",
       " '3의배수',\n",
       " 3,\n",
       " '3의배수',\n",
       " '3의배수',\n",
       " 6,\n",
       " '3의배수',\n",
       " '3의배수',\n",
       " 9,\n",
       " '3의배수',\n",
       " '3의배수',\n",
       " 12,\n",
       " '3의배수',\n",
       " '3의배수',\n",
       " 15,\n",
       " '3의배수',\n",
       " '3의배수',\n",
       " 18,\n",
       " '3의배수']"
      ]
     },
     "execution_count": 4,
     "metadata": {},
     "output_type": "execute_result"
    }
   ],
   "source": [
    "ls = range(1,20)\n",
    "result=[]\n",
    "result = [data if(data%3 == 0) else \"3의배수\"for data in ls]\n",
    "result"
   ]
  },
  {
   "cell_type": "code",
   "execution_count": 5,
   "metadata": {},
   "outputs": [
    {
     "data": {
      "text/plain": [
       "[1,\n",
       " 2,\n",
       " '3의배수',\n",
       " 4,\n",
       " 5,\n",
       " '3의배수',\n",
       " 7,\n",
       " 8,\n",
       " '3의배수',\n",
       " 10,\n",
       " 11,\n",
       " '3의배수',\n",
       " 13,\n",
       " 14,\n",
       " '3의배수',\n",
       " 16,\n",
       " 17,\n",
       " '3의배수',\n",
       " 19]"
      ]
     },
     "execution_count": 5,
     "metadata": {},
     "output_type": "execute_result"
    }
   ],
   "source": [
    "ls = range(1,20)\n",
    "result = []\n",
    "\n",
    "for data in ls:\n",
    "    if(data%3 == 0):\n",
    "        result.append('3의배수')\n",
    "    else:\n",
    "        result.append(data)\n",
    "result"
   ]
  },
  {
   "cell_type": "code",
   "execution_count": 6,
   "metadata": {},
   "outputs": [
    {
     "data": {
      "text/plain": [
       "6"
      ]
     },
     "execution_count": 6,
     "metadata": {},
     "output_type": "execute_result"
    }
   ],
   "source": [
    "6%7\n"
   ]
  },
  {
   "cell_type": "code",
   "execution_count": 7,
   "metadata": {},
   "outputs": [
    {
     "data": {
      "text/plain": [
       "1"
      ]
     },
     "execution_count": 7,
     "metadata": {},
     "output_type": "execute_result"
    }
   ],
   "source": [
    "5//4"
   ]
  },
  {
   "cell_type": "code",
   "execution_count": 8,
   "metadata": {},
   "outputs": [
    {
     "data": {
      "text/plain": [
       "True"
      ]
     },
     "execution_count": 8,
     "metadata": {},
     "output_type": "execute_result"
    }
   ],
   "source": [
    "5!=4"
   ]
  },
  {
   "cell_type": "code",
   "execution_count": 9,
   "metadata": {},
   "outputs": [
    {
     "data": {
      "text/plain": [
       "9"
      ]
     },
     "execution_count": 9,
     "metadata": {},
     "output_type": "execute_result"
    }
   ],
   "source": [
    "3**2"
   ]
  },
  {
   "cell_type": "code",
   "execution_count": null,
   "metadata": {},
   "outputs": [],
   "source": [
    "number = int(input())\n",
    "A if number %2 else B "
   ]
  },
  {
   "cell_type": "markdown",
   "metadata": {},
   "source": [
    "4. 윤년에 대한 조건이 다음과 같이 3가지가 있습니다. 첫째, 4로 나누었을 때 떨어지는 해가 윤년입니다. 둘째, 100년에 한 번은 평년입니다. 셋째, 400으로 나누었을 때 떨어지는 해는 윤년입니다. 이를 계산하는 코드를 연산자를 이용하여 작성해본 뒤, 2021년이 윤년인지 평년인지 답변해주세요.\n",
    "* 윤년에 자세한 설명 참고(https://terms.naver.com/entry.naver?docId=1133190&cid=40942&categoryId=32295)\n",
    "\n",
    "- 윤년(True)? 평년(False)?"
   ]
  },
  {
   "cell_type": "code",
   "execution_count": 10,
   "metadata": {},
   "outputs": [
    {
     "name": "stdout",
     "output_type": "stream",
     "text": [
      "2021\n",
      "평년\n"
     ]
    }
   ],
   "source": [
    "n = int(input('년도 입력부탁: '))\n",
    "if n % 4 == 0 and n % 400 == 0 :   \n",
    "    print('윤년')\n",
    "else:\n",
    "    print('평년')\n",
    "print('{}는 {}')"
   ]
  },
  {
   "cell_type": "code",
   "execution_count": null,
   "metadata": {},
   "outputs": [],
   "source": []
  }
 ],
 "metadata": {
  "kernelspec": {
   "display_name": "Python 3",
   "language": "python",
   "name": "python3"
  },
  "language_info": {
   "codemirror_mode": {
    "name": "ipython",
    "version": 3
   },
   "file_extension": ".py",
   "mimetype": "text/x-python",
   "name": "python",
   "nbconvert_exporter": "python",
   "pygments_lexer": "ipython3",
   "version": "3.8.5"
  },
  "toc": {
   "base_numbering": 1,
   "nav_menu": {},
   "number_sections": true,
   "sideBar": true,
   "skip_h1_title": false,
   "title_cell": "Table of Contents",
   "title_sidebar": "Contents",
   "toc_cell": false,
   "toc_position": {},
   "toc_section_display": true,
   "toc_window_display": false
  }
 },
 "nbformat": 4,
 "nbformat_minor": 4
}
